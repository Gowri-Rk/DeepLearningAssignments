{
  "nbformat": 4,
  "nbformat_minor": 0,
  "metadata": {
    "colab": {
      "name": "Classification_TF_1B.ipynb",
      "provenance": [],
      "collapsed_sections": []
    },
    "kernelspec": {
      "name": "python3",
      "display_name": "Python 3"
    }
  },
  "cells": [
    {
      "cell_type": "code",
      "metadata": {
        "id": "36aMG1YP2qDA",
        "colab_type": "code",
        "outputId": "40b35e43-7dae-49ce-b7ee-01e756c63984",
        "colab": {
          "base_uri": "https://localhost:8080/",
          "height": 34
        }
      },
      "source": [
        "try:\n",
        "  %tensorflow_version 2.x\n",
        "except Exception:\n",
        "  pass"
      ],
      "execution_count": 0,
      "outputs": [
        {
          "output_type": "stream",
          "text": [
            "TensorFlow 2.x selected.\n"
          ],
          "name": "stdout"
        }
      ]
    },
    {
      "cell_type": "markdown",
      "metadata": {
        "id": "9rRNpT4H4AVG",
        "colab_type": "text"
      },
      "source": [
        "**Import libraries**"
      ]
    },
    {
      "cell_type": "code",
      "metadata": {
        "id": "faneAzsF28sr",
        "colab_type": "code",
        "outputId": "77cbc0a7-0ab6-4569-e2ce-400fa1c7ee31",
        "colab": {
          "base_uri": "https://localhost:8080/",
          "height": 34
        }
      },
      "source": [
        "from __future__ import absolute_import, division, print_function, unicode_literals\n",
        "\n",
        "# TensorFlow and tf.keras\n",
        "import tensorflow as tf\n",
        "from tensorflow import keras\n",
        "\n",
        "# Helper libraries\n",
        "import numpy as np\n",
        "import matplotlib.pyplot as plt\n",
        "\n",
        "print(tf.__version__)"
      ],
      "execution_count": 0,
      "outputs": [
        {
          "output_type": "stream",
          "text": [
            "2.1.0\n"
          ],
          "name": "stdout"
        }
      ]
    },
    {
      "cell_type": "markdown",
      "metadata": {
        "id": "Fo934hR54DiX",
        "colab_type": "text"
      },
      "source": [
        "**For classification with TF, the dataset used here is CIFAR10 small image classification from Keras**"
      ]
    },
    {
      "cell_type": "code",
      "metadata": {
        "id": "sYIUEKq_3gTR",
        "colab_type": "code",
        "outputId": "d629dc07-8a7d-4bff-88c1-010fce2c1138",
        "colab": {
          "base_uri": "https://localhost:8080/",
          "height": 67
        }
      },
      "source": [
        "from keras.datasets import cifar10\n",
        "(x_train, y_train), (x_test, y_test) = cifar10.load_data()"
      ],
      "execution_count": 0,
      "outputs": [
        {
          "output_type": "stream",
          "text": [
            "Using TensorFlow backend.\n"
          ],
          "name": "stderr"
        },
        {
          "output_type": "stream",
          "text": [
            "Downloading data from https://www.cs.toronto.edu/~kriz/cifar-10-python.tar.gz\n",
            "170500096/170498071 [==============================] - 4s 0us/step\n"
          ],
          "name": "stdout"
        }
      ]
    },
    {
      "cell_type": "markdown",
      "metadata": {
        "id": "8h9vBhlq4r9Z",
        "colab_type": "text"
      },
      "source": [
        "Class name"
      ]
    },
    {
      "cell_type": "code",
      "metadata": {
        "id": "gfALuTyz4dXR",
        "colab_type": "code",
        "colab": {}
      },
      "source": [
        "#class_names = "
      ],
      "execution_count": 0,
      "outputs": []
    },
    {
      "cell_type": "markdown",
      "metadata": {
        "id": "xe8rCv5c41iR",
        "colab_type": "text"
      },
      "source": [
        "**Data exploration**\n",
        "\n",
        "1.   List item\n",
        "2.   List item\n",
        "\n"
      ]
    },
    {
      "cell_type": "code",
      "metadata": {
        "id": "MOgTugHS4y59",
        "colab_type": "code",
        "outputId": "2fbcc1a2-ee64-49ba-8c21-fad413c8d2f3",
        "colab": {
          "base_uri": "https://localhost:8080/",
          "height": 34
        }
      },
      "source": [
        "x_train.shape"
      ],
      "execution_count": 0,
      "outputs": [
        {
          "output_type": "execute_result",
          "data": {
            "text/plain": [
              "(50000, 32, 32, 3)"
            ]
          },
          "metadata": {
            "tags": []
          },
          "execution_count": 5
        }
      ]
    },
    {
      "cell_type": "code",
      "metadata": {
        "id": "v7Demj3A48qN",
        "colab_type": "code",
        "outputId": "bd122c97-c2f9-4f62-960a-6dbb3d55b8f4",
        "colab": {
          "base_uri": "https://localhost:8080/",
          "height": 34
        }
      },
      "source": [
        "len(y_train)"
      ],
      "execution_count": 0,
      "outputs": [
        {
          "output_type": "execute_result",
          "data": {
            "text/plain": [
              "50000"
            ]
          },
          "metadata": {
            "tags": []
          },
          "execution_count": 6
        }
      ]
    },
    {
      "cell_type": "code",
      "metadata": {
        "id": "BPyX9i5s5DS-",
        "colab_type": "code",
        "outputId": "cd471609-b7c1-4020-db53-d6f02d6cae62",
        "colab": {
          "base_uri": "https://localhost:8080/",
          "height": 134
        }
      },
      "source": [
        "y_train"
      ],
      "execution_count": 0,
      "outputs": [
        {
          "output_type": "execute_result",
          "data": {
            "text/plain": [
              "array([[6],\n",
              "       [9],\n",
              "       [9],\n",
              "       ...,\n",
              "       [9],\n",
              "       [1],\n",
              "       [1]], dtype=uint8)"
            ]
          },
          "metadata": {
            "tags": []
          },
          "execution_count": 7
        }
      ]
    },
    {
      "cell_type": "code",
      "metadata": {
        "id": "y1jb8flY5KsK",
        "colab_type": "code",
        "outputId": "27db2efe-7a74-4c6d-f46f-060798782e58",
        "colab": {
          "base_uri": "https://localhost:8080/",
          "height": 34
        }
      },
      "source": [
        "y_test.shape"
      ],
      "execution_count": 0,
      "outputs": [
        {
          "output_type": "execute_result",
          "data": {
            "text/plain": [
              "(10000, 1)"
            ]
          },
          "metadata": {
            "tags": []
          },
          "execution_count": 8
        }
      ]
    },
    {
      "cell_type": "code",
      "metadata": {
        "id": "n5lu-lUl5P_l",
        "colab_type": "code",
        "outputId": "6bc15407-ee31-4bad-822f-fdc37c59865c",
        "colab": {
          "base_uri": "https://localhost:8080/",
          "height": 34
        }
      },
      "source": [
        "len(y_test)"
      ],
      "execution_count": 0,
      "outputs": [
        {
          "output_type": "execute_result",
          "data": {
            "text/plain": [
              "10000"
            ]
          },
          "metadata": {
            "tags": []
          },
          "execution_count": 9
        }
      ]
    },
    {
      "cell_type": "markdown",
      "metadata": {
        "id": "2F-hi-mT5WzH",
        "colab_type": "text"
      },
      "source": [
        "**Data Preprocessing**"
      ]
    },
    {
      "cell_type": "code",
      "metadata": {
        "id": "5H0Dm9wk5UQv",
        "colab_type": "code",
        "outputId": "2d7b74c8-482f-4f2b-8681-24e8d96dfcb0",
        "colab": {
          "base_uri": "https://localhost:8080/",
          "height": 266
        }
      },
      "source": [
        "plt.figure()\n",
        "plt.imshow(x_train[0])\n",
        "plt.colorbar()\n",
        "plt.grid(False)\n",
        "plt.show()"
      ],
      "execution_count": 0,
      "outputs": [
        {
          "output_type": "display_data",
          "data": {
            "image/png": "[encoded data removed]",
            "text/plain": [
              "<Figure size 432x288 with 2 Axes>"
            ]
          },
          "metadata": {
            "tags": []
          }
        }
      ]
    },
    {
      "cell_type": "markdown",
      "metadata": {
        "id": "yUJ-4fQ46D0o",
        "colab_type": "text"
      },
      "source": [
        "**Scale the train and test data**"
      ]
    },
    {
      "cell_type": "code",
      "metadata": {
        "id": "y3RsLVzc55Cm",
        "colab_type": "code",
        "colab": {}
      },
      "source": [
        "x_train = x_train / 255.0\n",
        "\n",
        "x_test = x_test / 255.0"
      ],
      "execution_count": 0,
      "outputs": []
    },
    {
      "cell_type": "markdown",
      "metadata": {
        "id": "FuN4CJsu6g8d",
        "colab_type": "text"
      },
      "source": [
        "**Displaying the first 25 images from the training dataset to verify**"
      ]
    },
    {
      "cell_type": "code",
      "metadata": {
        "id": "F1FGspuG6cIl",
        "colab_type": "code",
        "outputId": "df6fa589-12db-4d65-fceb-8a5d8be2129c",
        "colab": {
          "base_uri": "https://localhost:8080/",
          "height": 642
        }
      },
      "source": [
        "plt.figure(figsize=(10,10))\n",
        "for i in range(25):\n",
        "    plt.subplot(5,5,i+1)\n",
        "    plt.xticks([])\n",
        "    plt.yticks([])\n",
        "    plt.grid(False)\n",
        "    plt.imshow(x_train[i], cmap=plt.cm.binary)\n",
        "    plt.xlabel(y_train[i])\n",
        "plt.show()"
      ],
      "execution_count": 0,
      "outputs": [
        {
          "output_type": "stream",
          "text": [
            "/usr/local/lib/python3.6/dist-packages/matplotlib/text.py:1150: FutureWarning: elementwise comparison failed; returning scalar instead, but in the future will perform elementwise comparison\n",
            "  if s != self._text:\n"
          ],
          "name": "stderr"
        },
        {
          "output_type": "display_data",
          "data": {
            "image/png": "[encoded data removed]",
            "text/plain": [
              "<Figure size 720x720 with 25 Axes>"
            ]
          },
          "metadata": {
            "tags": []
          }
        }
      ]
    },
    {
      "cell_type": "markdown",
      "metadata": {
        "id": "kplgvi8r7B1f",
        "colab_type": "text"
      },
      "source": [
        "**BUILDING THE MODEL**"
      ]
    },
    {
      "cell_type": "code",
      "metadata": {
        "id": "sdeqHD5o67tY",
        "colab_type": "code",
        "colab": {}
      },
      "source": [
        "model = keras.Sequential([\n",
        "    keras.layers.Flatten(input_shape=(32, 32, 3)),\n",
        "    keras.layers.Dense(128, activation='relu'),\n",
        "    keras.layers.Dense(10)\n",
        "])"
      ],
      "execution_count": 0,
      "outputs": []
    },
    {
      "cell_type": "code",
      "metadata": {
        "id": "k7GHky_48DuZ",
        "colab_type": "code",
        "colab": {}
      },
      "source": [
        "model.compile(optimizer='adam',\n",
        "              loss=tf.keras.losses.SparseCategoricalCrossentropy(from_logits=True),\n",
        "              metrics=['accuracy'])"
      ],
      "execution_count": 0,
      "outputs": []
    },
    {
      "cell_type": "markdown",
      "metadata": {
        "id": "6QuW5WNE8MXA",
        "colab_type": "text"
      },
      "source": [
        "**Train the model**\n"
      ]
    },
    {
      "cell_type": "code",
      "metadata": {
        "id": "X3yHRHG98J2-",
        "colab_type": "code",
        "outputId": "a64fcf25-7896-40cd-d1bf-c9ee18516d59",
        "colab": {
          "base_uri": "https://localhost:8080/",
          "height": 386
        }
      },
      "source": [
        "model.fit(x_train, y_train, epochs=10)"
      ],
      "execution_count": 0,
      "outputs": [
        {
          "output_type": "stream",
          "text": [
            "Train on 50000 samples\n",
            "Epoch 1/10\n",
            "50000/50000 [==============================] - 7s 141us/sample - loss: 1.9150 - accuracy: 0.3109\n",
            "Epoch 2/10\n",
            "50000/50000 [==============================] - 7s 133us/sample - loss: 1.7704 - accuracy: 0.3683\n",
            "Epoch 3/10\n",
            "50000/50000 [==============================] - 7s 134us/sample - loss: 1.7241 - accuracy: 0.3864\n",
            "Epoch 4/10\n",
            "50000/50000 [==============================] - 6s 129us/sample - loss: 1.6864 - accuracy: 0.3974\n",
            "Epoch 5/10\n",
            "50000/50000 [==============================] - 7s 133us/sample - loss: 1.6628 - accuracy: 0.4088\n",
            "Epoch 6/10\n",
            "50000/50000 [==============================] - 7s 131us/sample - loss: 1.6435 - accuracy: 0.4157\n",
            "Epoch 7/10\n",
            "50000/50000 [==============================] - 7s 134us/sample - loss: 1.6277 - accuracy: 0.4201\n",
            "Epoch 8/10\n",
            "50000/50000 [==============================] - 7s 135us/sample - loss: 1.6252 - accuracy: 0.4201\n",
            "Epoch 9/10\n",
            "50000/50000 [==============================] - 6s 128us/sample - loss: 1.6094 - accuracy: 0.4289\n",
            "Epoch 10/10\n",
            "50000/50000 [==============================] - 6s 127us/sample - loss: 1.6036 - accuracy: 0.4278\n"
          ],
          "name": "stdout"
        },
        {
          "output_type": "execute_result",
          "data": {
            "text/plain": [
              "<tensorflow.python.keras.callbacks.History at 0x7f1fc3407ba8>"
            ]
          },
          "metadata": {
            "tags": []
          },
          "execution_count": 19
        }
      ]
    },
    {
      "cell_type": "code",
      "metadata": {
        "id": "yZeXnaC68VpW",
        "colab_type": "code",
        "outputId": "e1a78a21-f180-4de5-f071-4871097458a4",
        "colab": {
          "base_uri": "https://localhost:8080/",
          "height": 67
        }
      },
      "source": [
        "test_loss, test_acc = model.evaluate(x_test,  y_test, verbose=2)\n",
        "\n",
        "print('\\nTest accuracy:', test_acc)"
      ],
      "execution_count": 0,
      "outputs": [
        {
          "output_type": "stream",
          "text": [
            "10000/10000 - 1s - loss: 1.5914 - accuracy: 0.4338\n",
            "\n",
            "Test accuracy: 0.4338\n"
          ],
          "name": "stdout"
        }
      ]
    },
    {
      "cell_type": "markdown",
      "metadata": {
        "id": "XjbvaRzL-rVZ",
        "colab_type": "text"
      },
      "source": [
        "Note: accuracy is low? Recheck"
      ]
    },
    {
      "cell_type": "markdown",
      "metadata": {
        "id": "72cNoj62-nOn",
        "colab_type": "text"
      },
      "source": [
        "**Making predictions**"
      ]
    },
    {
      "cell_type": "code",
      "metadata": {
        "id": "UNl3fRaa-iAp",
        "colab_type": "code",
        "colab": {}
      },
      "source": [
        "probability_model = tf.keras.Sequential([model, \n",
        "                                         tf.keras.layers.Softmax()])"
      ],
      "execution_count": 0,
      "outputs": []
    },
    {
      "cell_type": "code",
      "metadata": {
        "id": "LQPD2C3j-2nX",
        "colab_type": "code",
        "colab": {}
      },
      "source": [
        "predictions = probability_model.predict(x_test)"
      ],
      "execution_count": 0,
      "outputs": []
    },
    {
      "cell_type": "markdown",
      "metadata": {
        "id": "DrJVCn0U-9Xq",
        "colab_type": "text"
      },
      "source": [
        "first prediction\n"
      ]
    },
    {
      "cell_type": "code",
      "metadata": {
        "id": "ODD8tA6j-6AE",
        "colab_type": "code",
        "outputId": "15909818-8f94-4d6b-c79b-5bf844ed6591",
        "colab": {
          "base_uri": "https://localhost:8080/",
          "height": 67
        }
      },
      "source": [
        "predictions[0]"
      ],
      "execution_count": 0,
      "outputs": [
        {
          "output_type": "execute_result",
          "data": {
            "text/plain": [
              "array([0.05571656, 0.0198502 , 0.23594749, 0.18085538, 0.07470245,\n",
              "       0.09391536, 0.23210649, 0.00354211, 0.09699819, 0.00636574],\n",
              "      dtype=float32)"
            ]
          },
          "metadata": {
            "tags": []
          },
          "execution_count": 23
        }
      ]
    },
    {
      "cell_type": "code",
      "metadata": {
        "id": "YZ1Iz57G--8b",
        "colab_type": "code",
        "outputId": "31336aa3-3685-449c-e082-0fe965957d92",
        "colab": {
          "base_uri": "https://localhost:8080/",
          "height": 34
        }
      },
      "source": [
        "np.argmax(predictions[0])"
      ],
      "execution_count": 0,
      "outputs": [
        {
          "output_type": "execute_result",
          "data": {
            "text/plain": [
              "2"
            ]
          },
          "metadata": {
            "tags": []
          },
          "execution_count": 24
        }
      ]
    },
    {
      "cell_type": "markdown",
      "metadata": {
        "id": "3Nbvlhil_Ru_",
        "colab_type": "text"
      },
      "source": [
        "**Plotting predictions**"
      ]
    },
    {
      "cell_type": "code",
      "metadata": {
        "id": "NlBwI1yT_JDy",
        "colab_type": "code",
        "colab": {}
      },
      "source": [
        "def plot_image(i, predictions_array, true_label, img):\n",
        "  predictions_array, true_label, img = predictions_array, true_label[i], img[i]\n",
        "  plt.grid(False)\n",
        "  plt.xticks([])\n",
        "  plt.yticks([])\n",
        "\n",
        "  plt.imshow(img, cmap=plt.cm.binary)\n",
        "\n",
        "  predicted_label = np.argmax(predictions_array)\n",
        "  if predicted_label == true_label:\n",
        "    color = 'blue'\n",
        "  else:\n",
        "    color = 'red'\n",
        "\n",
        "  plt.xlabel(\"{} {:2.0f}% ({})\".format(predicted_label,\n",
        "                                100*np.max(predictions_array),\n",
        "                                true_label),\n",
        "                                color=color)\n",
        "\n",
        "def plot_value_array(i, predictions_array, true_label):\n",
        "  predictions_array, true_label = predictions_array, true_label[i]\n",
        "  plt.grid(False)\n",
        "  plt.xticks(range(10))\n",
        "  plt.yticks([])\n",
        "  thisplot = plt.bar(range(10), predictions_array, color=\"#777777\")\n",
        "  plt.ylim([0, 1])\n",
        "  predicted_label = np.argmax(predictions_array)\n",
        "\n",
        "  thisplot[predicted_label].set_color('red')\n",
        "  thisplot[true_label].set_color('blue')"
      ],
      "execution_count": 0,
      "outputs": []
    },
    {
      "cell_type": "markdown",
      "metadata": {
        "id": "KeKdffhNAVyE",
        "colab_type": "text"
      },
      "source": [
        "**Verify predictions**"
      ]
    },
    {
      "cell_type": "code",
      "metadata": {
        "id": "hd_hpfyxAUEo",
        "colab_type": "code",
        "colab": {}
      },
      "source": [
        "i = 0\n",
        "plt.figure(figsize=(6,3))\n",
        "plt.subplot(1,2,1)\n",
        "plot_image(i, predictions[i], y_test, x_test)\n",
        "plt.subplot(1,2,2)\n",
        "plot_value_array(i, predictions[i],  y_test)\n",
        "plt.show()"
      ],
      "execution_count": 0,
      "outputs": []
    },
    {
      "cell_type": "code",
      "metadata": {
        "id": "t1-OdPrZAmhd",
        "colab_type": "code",
        "colab": {}
      },
      "source": [
        "i = 12\n",
        "plt.figure(figsize=(6,3))\n",
        "plt.subplot(1,2,1)\n",
        "plot_image(i, predictions[i], y_test, x_test)\n",
        "plt.subplot(1,2,2)\n",
        "plot_value_array(i, predictions[i],  y_test)\n",
        "plt.show()"
      ],
      "execution_count": 0,
      "outputs": []
    },
    {
      "cell_type": "markdown",
      "metadata": {
        "id": "_A_7zo1sDZbn",
        "colab_type": "text"
      },
      "source": [
        "**Predicting single image**"
      ]
    },
    {
      "cell_type": "code",
      "metadata": {
        "id": "jZl_RHPMDMfS",
        "colab_type": "code",
        "outputId": "c224ffaa-ead0-4fe6-9e80-1bd46e2496c5",
        "colab": {
          "base_uri": "https://localhost:8080/",
          "height": 34
        }
      },
      "source": [
        "# Grab an image from the test dataset.\n",
        "img = x_test[1]\n",
        "\n",
        "print(img.shape)"
      ],
      "execution_count": 0,
      "outputs": [
        {
          "output_type": "stream",
          "text": [
            "(32, 32, 3)\n"
          ],
          "name": "stdout"
        }
      ]
    },
    {
      "cell_type": "code",
      "metadata": {
        "id": "Yi7yR3c9Dfsk",
        "colab_type": "code",
        "outputId": "dc93457f-ac1c-4e0b-e34e-a8392ea4f67a",
        "colab": {
          "base_uri": "https://localhost:8080/",
          "height": 34
        }
      },
      "source": [
        "# Add the image to a batch where it's the only member.\n",
        "img = (np.expand_dims(img,0))\n",
        "\n",
        "print(img.shape)"
      ],
      "execution_count": 0,
      "outputs": [
        {
          "output_type": "stream",
          "text": [
            "(1, 32, 32, 3)\n"
          ],
          "name": "stdout"
        }
      ]
    },
    {
      "cell_type": "code",
      "metadata": {
        "id": "lduRxPYvDiYF",
        "colab_type": "code",
        "outputId": "53c30af0-f6ad-40ee-879c-60f228394801",
        "colab": {
          "base_uri": "https://localhost:8080/",
          "height": 50
        }
      },
      "source": [
        "predictions_single = probability_model.predict(img)\n",
        "\n",
        "print(predictions_single)"
      ],
      "execution_count": 0,
      "outputs": [
        {
          "output_type": "stream",
          "text": [
            "[[0.06138793 0.41320375 0.00271645 0.00398897 0.00177504 0.0015285\n",
            "  0.00073519 0.00057479 0.24090931 0.27318   ]]\n"
          ],
          "name": "stdout"
        }
      ]
    },
    {
      "cell_type": "code",
      "metadata": {
        "id": "eSbMU6DfDkkF",
        "colab_type": "code",
        "colab": {}
      },
      "source": [
        "plot_value_array(1, predictions_single[0], y_test)\n",
        "_ = plt.xticks(range(10), class_names, rotation=45)"
      ],
      "execution_count": 0,
      "outputs": []
    },
    {
      "cell_type": "code",
      "metadata": {
        "id": "R1mUxKJLDo5t",
        "colab_type": "code",
        "outputId": "68022ac9-f682-4411-8c09-8e0e9021cab6",
        "colab": {
          "base_uri": "https://localhost:8080/",
          "height": 34
        }
      },
      "source": [
        "np.argmax(predictions_single[0])"
      ],
      "execution_count": 0,
      "outputs": [
        {
          "output_type": "execute_result",
          "data": {
            "text/plain": [
              "1"
            ]
          },
          "metadata": {
            "tags": []
          },
          "execution_count": 38
        }
      ]
    },
    {
      "cell_type": "code",
      "metadata": {
        "id": "gDR_k7XcEHHN",
        "colab_type": "code",
        "colab": {}
      },
      "source": [
        ""
      ],
      "execution_count": 0,
      "outputs": []
    }
  ]
}