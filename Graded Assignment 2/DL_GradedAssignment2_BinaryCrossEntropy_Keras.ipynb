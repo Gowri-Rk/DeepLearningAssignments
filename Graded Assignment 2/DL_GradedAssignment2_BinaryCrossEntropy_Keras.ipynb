{
  "nbformat": 4,
  "nbformat_minor": 0,
  "metadata": {
    "colab": {
      "name": "DL_GradedAssignment2_BinaryCrossEntropy_Keras.ipynb",
      "provenance": [],
      "collapsed_sections": [],
      "authorship_tag": "ABX9TyP8eNinkvOgWGQHnYjg8+mg",
      "include_colab_link": true
    },
    "kernelspec": {
      "name": "python3",
      "display_name": "Python 3"
    },
    "accelerator": "GPU"
  },
  "cells": [
    {
      "cell_type": "markdown",
      "metadata": {
        "id": "view-in-github",
        "colab_type": "text"
      },
      "source": [
        "<a href=\"https://colab.research.google.com/github/Gowri-Rk/DeepLearningAssignments/blob/master/Graded%20Assignment%202/DL_GradedAssignment2_BinaryCrossEntropy_Keras.ipynb\" target=\"_parent\"><img src=\"https://colab.research.google.com/assets/colab-badge.svg\" alt=\"Open In Colab\"/></a>"
      ]
    },
    {
      "cell_type": "markdown",
      "metadata": {
        "id": "CJDHJ79daoV7",
        "colab_type": "text"
      },
      "source": [
        "A keras model for Binary Classification"
      ]
    },
    {
      "cell_type": "markdown",
      "metadata": {
        "id": "D29pqFQaasf1",
        "colab_type": "text"
      },
      "source": [
        "Imports"
      ]
    },
    {
      "cell_type": "code",
      "metadata": {
        "id": "Apj9ehmIauEi",
        "colab_type": "code",
        "colab": {}
      },
      "source": [
        "from pandas import read_csv\n",
        "from keras.models import Sequential\n",
        "from keras.layers import Dense\n",
        "from keras.wrappers.scikit_learn import KerasClassifier\n",
        "from sklearn.model_selection import cross_val_score\n",
        "from sklearn.preprocessing import LabelEncoder\n",
        "from sklearn.model_selection import StratifiedKFold\n",
        "from sklearn.preprocessing import StandardScaler\n",
        "from sklearn.pipeline import Pipeline"
      ],
      "execution_count": 0,
      "outputs": []
    },
    {
      "cell_type": "markdown",
      "metadata": {
        "id": "f2As93ZkcAx7",
        "colab_type": "text"
      },
      "source": [
        "We will be using Sonar dataset for this classification - reading the downloaded dataset"
      ]
    },
    {
      "cell_type": "code",
      "metadata": {
        "id": "YYsR13M8cKW2",
        "colab_type": "code",
        "outputId": "56f413cd-a223-44f4-cf6e-75e414ca70c3",
        "colab": {
          "base_uri": "https://localhost:8080/",
          "height": 120
        }
      },
      "source": [
        "from google.colab import drive\n",
        "drive.mount(\"/content/gdrive\")"
      ],
      "execution_count": 0,
      "outputs": [
        {
          "output_type": "stream",
          "text": [
            "Go to this URL in a browser: https://accounts.google.com/o/oauth2/auth?client_id=947318989803-6bn6qk8qdgf4n4g3pfee6491hc0brc4i.apps.googleusercontent.com&redirect_uri=urn%3aietf%3awg%3aoauth%3a2.0%3aoob&response_type=code&scope=email%20https%3a%2f%2fwww.googleapis.com%2fauth%2fdocs.test%20https%3a%2f%2fwww.googleapis.com%2fauth%2fdrive%20https%3a%2f%2fwww.googleapis.com%2fauth%2fdrive.photos.readonly%20https%3a%2f%2fwww.googleapis.com%2fauth%2fpeopleapi.readonly\n",
            "\n",
            "Enter your authorization code:\n",
            "··········\n",
            "Mounted at /content/gdrive\n"
          ],
          "name": "stdout"
        }
      ]
    },
    {
      "cell_type": "code",
      "metadata": {
        "id": "216hOIsbrzGv",
        "colab_type": "code",
        "colab": {}
      },
      "source": [
        "df = read_csv(\"/content/gdrive/My Drive/Colab Datasets/sonar-all-data.csv\", header=None)\n"
      ],
      "execution_count": 0,
      "outputs": []
    },
    {
      "cell_type": "code",
      "metadata": {
        "id": "v7wbOQ-Vr5J1",
        "colab_type": "code",
        "colab": {}
      },
      "source": [
        "df_sonar = df.values\n"
      ],
      "execution_count": 0,
      "outputs": []
    },
    {
      "cell_type": "markdown",
      "metadata": {
        "id": "2z9diiQJc8K8",
        "colab_type": "text"
      },
      "source": [
        "checking input"
      ]
    },
    {
      "cell_type": "code",
      "metadata": {
        "id": "LV5kJitDc-eP",
        "colab_type": "code",
        "outputId": "a5e14150-f6ec-4af9-d0e0-09f093bd2ed1",
        "colab": {
          "base_uri": "https://localhost:8080/",
          "height": 134
        }
      },
      "source": [
        "df_sonar"
      ],
      "execution_count": 0,
      "outputs": [
        {
          "output_type": "execute_result",
          "data": {
            "text/plain": [
              "array([[0.02, 0.0371, 0.0428, ..., 0.009, 0.0032, 'R'],\n",
              "       [0.0453, 0.0523, 0.0843, ..., 0.0052, 0.0044, 'R'],\n",
              "       [0.0262, 0.0582, 0.1099, ..., 0.0095, 0.0078, 'R'],\n",
              "       ...,\n",
              "       [0.0522, 0.0437, 0.018, ..., 0.0077, 0.0031, 'M'],\n",
              "       [0.0303, 0.0353, 0.049, ..., 0.0036, 0.0048, 'M'],\n",
              "       [0.026, 0.0363, 0.0136, ..., 0.0061, 0.0115, 'M']], dtype=object)"
            ]
          },
          "metadata": {
            "tags": []
          },
          "execution_count": 13
        }
      ]
    },
    {
      "cell_type": "markdown",
      "metadata": {
        "id": "kJurgRdKco0E",
        "colab_type": "text"
      },
      "source": [
        "Manually splitting features and label"
      ]
    },
    {
      "cell_type": "code",
      "metadata": {
        "id": "8MR2ULY_cu6M",
        "colab_type": "code",
        "colab": {}
      },
      "source": [
        "X = df_sonar[:,0:60].astype(float)\n",
        "Y = df_sonar[:,60]"
      ],
      "execution_count": 0,
      "outputs": []
    },
    {
      "cell_type": "markdown",
      "metadata": {
        "id": "_jQuNFOKdEV-",
        "colab_type": "text"
      },
      "source": [
        "Encoding the label column into integer"
      ]
    },
    {
      "cell_type": "code",
      "metadata": {
        "id": "iGH0T7mmdJ_o",
        "colab_type": "code",
        "colab": {}
      },
      "source": [
        "labelEn = LabelEncoder()\n",
        "labelEn.fit(Y)\n",
        "New_Y = labelEn.transform(Y)"
      ],
      "execution_count": 0,
      "outputs": []
    },
    {
      "cell_type": "markdown",
      "metadata": {
        "id": "my6vNE2wdSJA",
        "colab_type": "text"
      },
      "source": [
        "Building a sequential model with keras for logistic regression"
      ]
    },
    {
      "cell_type": "code",
      "metadata": {
        "id": "LIMY4_J7dYRq",
        "colab_type": "code",
        "colab": {}
      },
      "source": [
        "#create a function that returns the model\n",
        "def build_fun():\n",
        "\tmodel = Sequential()\n",
        "\tmodel.add(Dense(60, input_dim=60, activation='relu'))\n",
        "\tmodel.add(Dense(30, activation='relu'))\n",
        "\tmodel.add(Dense(1, activation='sigmoid'))\n",
        "\t# Compile \n",
        "\tmodel.compile(loss='binary_crossentropy', optimizer='adam', metrics=['accuracy'])\n",
        "\treturn model"
      ],
      "execution_count": 0,
      "outputs": []
    },
    {
      "cell_type": "code",
      "metadata": {
        "id": "p-4mHcrWdnPr",
        "colab_type": "code",
        "colab": {}
      },
      "source": [
        "es = []\n",
        "es.append(('standardize', StandardScaler()))\n",
        "es.append(('mlp', KerasClassifier(build_fn=build_fun, epochs=100, batch_size=5, verbose=0)))"
      ],
      "execution_count": 0,
      "outputs": []
    },
    {
      "cell_type": "code",
      "metadata": {
        "id": "pR_Ekx7gdrMv",
        "colab_type": "code",
        "colab": {}
      },
      "source": [
        "pipeline = Pipeline(es)\n",
        "kfold = StratifiedKFold(n_splits=10, shuffle=True)"
      ],
      "execution_count": 0,
      "outputs": []
    },
    {
      "cell_type": "code",
      "metadata": {
        "id": "fmWSlwGud7ru",
        "colab_type": "code",
        "outputId": "4d944367-e395-4752-ca8c-21106703da15",
        "colab": {
          "base_uri": "https://localhost:8080/",
          "height": 34
        }
      },
      "source": [
        "results = cross_val_score(pipeline, X, New_Y, cv=kfold)\n",
        "print(\"Larger: %.2f%% (%.2f%%)\" % (results.mean()*100, results.std()*100))"
      ],
      "execution_count": 0,
      "outputs": [
        {
          "output_type": "stream",
          "text": [
            "Larger: 86.10% (6.52%)\n"
          ],
          "name": "stdout"
        }
      ]
    },
    {
      "cell_type": "code",
      "metadata": {
        "id": "_dJVi1gdd-Ya",
        "colab_type": "code",
        "colab": {}
      },
      "source": [
        ""
      ],
      "execution_count": 0,
      "outputs": []
    }
  ]
}
