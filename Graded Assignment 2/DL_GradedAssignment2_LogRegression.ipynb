{
  "nbformat": 4,
  "nbformat_minor": 0,
  "metadata": {
    "colab": {
      "name": "DL_GradedAssignment2_LogRegression.ipynb",
      "provenance": [],
      "collapsed_sections": [],
      "authorship_tag": "ABX9TyPT8eL/5IfVObyWycVMU+/X",
      "include_colab_link": true
    },
    "kernelspec": {
      "name": "python3",
      "display_name": "Python 3"
    }
  },
  "cells": [
    {
      "cell_type": "markdown",
      "metadata": {
        "id": "view-in-github",
        "colab_type": "text"
      },
      "source": [
        "<a href=\"https://colab.research.google.com/github/Gowri-Rk/DeepLearningAssignments/blob/master/Graded%20Assignment%202/DL_GradedAssignment2_LogRegression.ipynb\" target=\"_parent\"><img src=\"https://colab.research.google.com/assets/colab-badge.svg\" alt=\"Open In Colab\"/></a>"
      ]
    },
    {
      "cell_type": "markdown",
      "metadata": {
        "id": "9yA7EWZyUrAW",
        "colab_type": "text"
      },
      "source": [
        "# A Keras for logistic regression using Boston House Pricing Dataset"
      ]
    },
    {
      "cell_type": "markdown",
      "metadata": {
        "id": "RMhyv_gOVbQs",
        "colab_type": "text"
      },
      "source": [
        "Imports"
      ]
    },
    {
      "cell_type": "code",
      "metadata": {
        "id": "FVbiS81fUvrV",
        "colab_type": "code",
        "colab": {}
      },
      "source": [
        "from pandas import read_csv\n",
        "from keras.models import Sequential\n",
        "from keras.layers import Dense\n",
        "from keras.wrappers.scikit_learn import KerasClassifier\n",
        "from sklearn.model_selection import cross_val_score\n",
        "from sklearn.preprocessing import LabelEncoder\n",
        "from sklearn.model_selection import StratifiedKFold\n",
        "from sklearn.preprocessing import StandardScaler\n",
        "from sklearn.pipeline import Pipeline"
      ],
      "execution_count": 0,
      "outputs": []
    },
    {
      "cell_type": "markdown",
      "metadata": {
        "id": "pm3Q9KjTlsT_",
        "colab_type": "text"
      },
      "source": [
        "reading data"
      ]
    },
    {
      "cell_type": "code",
      "metadata": {
        "id": "B5VxmGC0VcDa",
        "colab_type": "code",
        "colab": {}
      },
      "source": [
        "from keras.datasets import boston_housing\n",
        "(xtrain, ytrain), (xtest, ytest) = boston_housing.load_data()"
      ],
      "execution_count": 0,
      "outputs": []
    },
    {
      "cell_type": "code",
      "metadata": {
        "id": "pF353sDtVer3",
        "colab_type": "code",
        "colab": {
          "base_uri": "https://localhost:8080/",
          "height": 67
        },
        "outputId": "0fbfeb2e-802e-4642-de8d-951968a66257"
      },
      "source": [
        "xtrain[0]"
      ],
      "execution_count": 7,
      "outputs": [
        {
          "output_type": "execute_result",
          "data": {
            "text/plain": [
              "array([  1.23247,   0.     ,   8.14   ,   0.     ,   0.538  ,   6.142  ,\n",
              "        91.7    ,   3.9769 ,   4.     , 307.     ,  21.     , 396.9    ,\n",
              "        18.72   ])"
            ]
          },
          "metadata": {
            "tags": []
          },
          "execution_count": 7
        }
      ]
    },
    {
      "cell_type": "code",
      "metadata": {
        "id": "AINOo2lwl87A",
        "colab_type": "code",
        "colab": {
          "base_uri": "https://localhost:8080/",
          "height": 34
        },
        "outputId": "32a3c5ca-0cfe-46b7-df1f-e80f1297c380"
      },
      "source": [
        "ytrain[0]"
      ],
      "execution_count": 8,
      "outputs": [
        {
          "output_type": "execute_result",
          "data": {
            "text/plain": [
              "15.2"
            ]
          },
          "metadata": {
            "tags": []
          },
          "execution_count": 8
        }
      ]
    },
    {
      "cell_type": "code",
      "metadata": {
        "id": "zskfkZTxl-HI",
        "colab_type": "code",
        "colab": {
          "base_uri": "https://localhost:8080/",
          "height": 34
        },
        "outputId": "d2def310-a7a2-4b84-ae76-46f55e716a57"
      },
      "source": [
        "scaler = StandardScaler()\n",
        "scaler.fit(xtrain)"
      ],
      "execution_count": 9,
      "outputs": [
        {
          "output_type": "execute_result",
          "data": {
            "text/plain": [
              "StandardScaler(copy=True, with_mean=True, with_std=True)"
            ]
          },
          "metadata": {
            "tags": []
          },
          "execution_count": 9
        }
      ]
    },
    {
      "cell_type": "code",
      "metadata": {
        "id": "ini_BTyWmGdU",
        "colab_type": "code",
        "colab": {}
      },
      "source": [
        "newxtrain = scaler.transform(xtrain)\n",
        "newxtest = scaler.transform(xtest)"
      ],
      "execution_count": 0,
      "outputs": []
    },
    {
      "cell_type": "markdown",
      "metadata": {
        "id": "2-wBdHStmSNz",
        "colab_type": "text"
      },
      "source": [
        "building the model"
      ]
    },
    {
      "cell_type": "code",
      "metadata": {
        "id": "EPMfs-KemQBK",
        "colab_type": "code",
        "colab": {}
      },
      "source": [
        "model = Sequential()"
      ],
      "execution_count": 0,
      "outputs": []
    },
    {
      "cell_type": "code",
      "metadata": {
        "id": "zaICEIabmWtu",
        "colab_type": "code",
        "colab": {}
      },
      "source": [
        "model.add(Dense(8, activation='relu', input_shape=[xtrain.shape[1]]))\n",
        "model.add(Dense(16, activation='relu'))\n",
        "model.add(Dense(1))"
      ],
      "execution_count": 0,
      "outputs": []
    },
    {
      "cell_type": "markdown",
      "metadata": {
        "id": "_R9jtdX9m5kt",
        "colab_type": "text"
      },
      "source": [
        "adding mean squared error loss for regression"
      ]
    },
    {
      "cell_type": "code",
      "metadata": {
        "id": "Fb5ldhGAmyYW",
        "colab_type": "code",
        "colab": {}
      },
      "source": [
        "model.compile(optimizer='rmsprop', loss='mse', metrics=['mae'])"
      ],
      "execution_count": 0,
      "outputs": []
    },
    {
      "cell_type": "code",
      "metadata": {
        "id": "lFODvC99nGPP",
        "colab_type": "code",
        "colab": {
          "base_uri": "https://localhost:8080/",
          "height": 1000
        },
        "outputId": "18692159-5f9e-4b57-8f9b-a9cf93f84191"
      },
      "source": [
        "model.fit(newxtrain, ytrain, validation_split=0.2, epochs=100)"
      ],
      "execution_count": 18,
      "outputs": [
        {
          "output_type": "stream",
          "text": [
            "Train on 323 samples, validate on 81 samples\n",
            "Epoch 1/100\n",
            "323/323 [==============================] - 0s 961us/step - loss: 582.8948 - mae: 22.2799 - val_loss: 649.9011 - val_mae: 23.7383\n",
            "Epoch 2/100\n",
            "323/323 [==============================] - 0s 57us/step - loss: 574.6552 - mae: 22.0852 - val_loss: 643.2335 - val_mae: 23.5931\n",
            "Epoch 3/100\n",
            "323/323 [==============================] - 0s 62us/step - loss: 568.5608 - mae: 21.9380 - val_loss: 637.2898 - val_mae: 23.4592\n",
            "Epoch 4/100\n",
            "323/323 [==============================] - 0s 68us/step - loss: 562.9353 - mae: 21.7971 - val_loss: 631.8616 - val_mae: 23.3303\n",
            "Epoch 5/100\n",
            "323/323 [==============================] - 0s 69us/step - loss: 557.3302 - mae: 21.6505 - val_loss: 626.1821 - val_mae: 23.1942\n",
            "Epoch 6/100\n",
            "323/323 [==============================] - 0s 89us/step - loss: 551.6047 - mae: 21.4940 - val_loss: 620.0074 - val_mae: 23.0405\n",
            "Epoch 7/100\n",
            "323/323 [==============================] - 0s 77us/step - loss: 545.5179 - mae: 21.3275 - val_loss: 613.7878 - val_mae: 22.8833\n",
            "Epoch 8/100\n",
            "323/323 [==============================] - 0s 70us/step - loss: 539.2806 - mae: 21.1512 - val_loss: 607.3619 - val_mae: 22.7184\n",
            "Epoch 9/100\n",
            "323/323 [==============================] - 0s 64us/step - loss: 532.8335 - mae: 20.9666 - val_loss: 600.2412 - val_mae: 22.5304\n",
            "Epoch 10/100\n",
            "323/323 [==============================] - 0s 58us/step - loss: 525.8799 - mae: 20.7600 - val_loss: 592.4456 - val_mae: 22.3190\n",
            "Epoch 11/100\n",
            "323/323 [==============================] - 0s 56us/step - loss: 518.6103 - mae: 20.5403 - val_loss: 585.6044 - val_mae: 22.1389\n",
            "Epoch 12/100\n",
            "323/323 [==============================] - 0s 66us/step - loss: 511.7492 - mae: 20.3392 - val_loss: 577.5530 - val_mae: 21.9159\n",
            "Epoch 13/100\n",
            "323/323 [==============================] - 0s 72us/step - loss: 503.9926 - mae: 20.1002 - val_loss: 569.3947 - val_mae: 21.6812\n",
            "Epoch 14/100\n",
            "323/323 [==============================] - 0s 58us/step - loss: 495.9510 - mae: 19.8376 - val_loss: 560.9879 - val_mae: 21.4427\n",
            "Epoch 15/100\n",
            "323/323 [==============================] - 0s 60us/step - loss: 487.7279 - mae: 19.5775 - val_loss: 551.6563 - val_mae: 21.1669\n",
            "Epoch 16/100\n",
            "323/323 [==============================] - 0s 58us/step - loss: 478.6707 - mae: 19.2855 - val_loss: 542.4689 - val_mae: 20.8802\n",
            "Epoch 17/100\n",
            "323/323 [==============================] - 0s 70us/step - loss: 469.4190 - mae: 18.9769 - val_loss: 532.1896 - val_mae: 20.5740\n",
            "Epoch 18/100\n",
            "323/323 [==============================] - 0s 61us/step - loss: 459.6003 - mae: 18.6436 - val_loss: 521.0575 - val_mae: 20.2313\n",
            "Epoch 19/100\n",
            "323/323 [==============================] - 0s 71us/step - loss: 449.5624 - mae: 18.3027 - val_loss: 511.5749 - val_mae: 19.9503\n",
            "Epoch 20/100\n",
            "323/323 [==============================] - 0s 58us/step - loss: 440.1031 - mae: 17.9942 - val_loss: 500.8454 - val_mae: 19.6088\n",
            "Epoch 21/100\n",
            "323/323 [==============================] - 0s 56us/step - loss: 429.5885 - mae: 17.6533 - val_loss: 489.5637 - val_mae: 19.2520\n",
            "Epoch 22/100\n",
            "323/323 [==============================] - 0s 56us/step - loss: 418.5750 - mae: 17.3025 - val_loss: 477.5805 - val_mae: 18.8572\n",
            "Epoch 23/100\n",
            "323/323 [==============================] - 0s 58us/step - loss: 406.9476 - mae: 16.9410 - val_loss: 464.7608 - val_mae: 18.4661\n",
            "Epoch 24/100\n",
            "323/323 [==============================] - 0s 70us/step - loss: 394.9937 - mae: 16.5713 - val_loss: 451.3465 - val_mae: 18.0629\n",
            "Epoch 25/100\n",
            "323/323 [==============================] - 0s 67us/step - loss: 382.4659 - mae: 16.1996 - val_loss: 437.1414 - val_mae: 17.6602\n",
            "Epoch 26/100\n",
            "323/323 [==============================] - 0s 67us/step - loss: 369.6729 - mae: 15.8285 - val_loss: 423.4087 - val_mae: 17.3087\n",
            "Epoch 27/100\n",
            "323/323 [==============================] - 0s 67us/step - loss: 357.1725 - mae: 15.4737 - val_loss: 409.1511 - val_mae: 16.9731\n",
            "Epoch 28/100\n",
            "323/323 [==============================] - 0s 75us/step - loss: 344.0888 - mae: 15.1348 - val_loss: 393.0010 - val_mae: 16.6061\n",
            "Epoch 29/100\n",
            "323/323 [==============================] - 0s 57us/step - loss: 329.8160 - mae: 14.7407 - val_loss: 376.8601 - val_mae: 16.2387\n",
            "Epoch 30/100\n",
            "323/323 [==============================] - 0s 68us/step - loss: 315.2522 - mae: 14.3585 - val_loss: 360.4112 - val_mae: 15.8700\n",
            "Epoch 31/100\n",
            "323/323 [==============================] - 0s 65us/step - loss: 300.4038 - mae: 13.9893 - val_loss: 343.2804 - val_mae: 15.4799\n",
            "Epoch 32/100\n",
            "323/323 [==============================] - 0s 72us/step - loss: 285.0403 - mae: 13.5647 - val_loss: 325.9146 - val_mae: 15.0635\n",
            "Epoch 33/100\n",
            "323/323 [==============================] - 0s 72us/step - loss: 269.6295 - mae: 13.1549 - val_loss: 307.9938 - val_mae: 14.6317\n",
            "Epoch 34/100\n",
            "323/323 [==============================] - 0s 73us/step - loss: 253.9787 - mae: 12.7222 - val_loss: 290.8689 - val_mae: 14.1994\n",
            "Epoch 35/100\n",
            "323/323 [==============================] - 0s 70us/step - loss: 238.5692 - mae: 12.2976 - val_loss: 273.5905 - val_mae: 13.7260\n",
            "Epoch 36/100\n",
            "323/323 [==============================] - 0s 70us/step - loss: 222.9329 - mae: 11.8353 - val_loss: 254.8646 - val_mae: 13.2295\n",
            "Epoch 37/100\n",
            "323/323 [==============================] - 0s 68us/step - loss: 207.0333 - mae: 11.3685 - val_loss: 237.0432 - val_mae: 12.7134\n",
            "Epoch 38/100\n",
            "323/323 [==============================] - 0s 66us/step - loss: 191.3160 - mae: 10.8759 - val_loss: 217.7839 - val_mae: 12.1323\n",
            "Epoch 39/100\n",
            "323/323 [==============================] - 0s 63us/step - loss: 175.7195 - mae: 10.3703 - val_loss: 201.0896 - val_mae: 11.5796\n",
            "Epoch 40/100\n",
            "323/323 [==============================] - 0s 66us/step - loss: 160.9009 - mae: 9.8573 - val_loss: 182.3527 - val_mae: 10.9328\n",
            "Epoch 41/100\n",
            "323/323 [==============================] - 0s 74us/step - loss: 145.6319 - mae: 9.3206 - val_loss: 163.9158 - val_mae: 10.2631\n",
            "Epoch 42/100\n",
            "323/323 [==============================] - 0s 65us/step - loss: 131.2062 - mae: 8.7675 - val_loss: 148.1805 - val_mae: 9.6495\n",
            "Epoch 43/100\n",
            "323/323 [==============================] - 0s 63us/step - loss: 118.3839 - mae: 8.2565 - val_loss: 134.3257 - val_mae: 9.1250\n",
            "Epoch 44/100\n",
            "323/323 [==============================] - 0s 67us/step - loss: 107.3237 - mae: 7.7852 - val_loss: 119.1430 - val_mae: 8.4929\n",
            "Epoch 45/100\n",
            "323/323 [==============================] - 0s 71us/step - loss: 96.0774 - mae: 7.2686 - val_loss: 107.4319 - val_mae: 8.0039\n",
            "Epoch 46/100\n",
            "323/323 [==============================] - 0s 70us/step - loss: 86.9986 - mae: 6.8328 - val_loss: 93.9018 - val_mae: 7.3697\n",
            "Epoch 47/100\n",
            "323/323 [==============================] - 0s 69us/step - loss: 77.7758 - mae: 6.3828 - val_loss: 84.4756 - val_mae: 6.9519\n",
            "Epoch 48/100\n",
            "323/323 [==============================] - 0s 64us/step - loss: 71.0366 - mae: 6.0581 - val_loss: 76.2934 - val_mae: 6.5972\n",
            "Epoch 49/100\n",
            "323/323 [==============================] - 0s 85us/step - loss: 65.3414 - mae: 5.7934 - val_loss: 69.3277 - val_mae: 6.2836\n",
            "Epoch 50/100\n",
            "323/323 [==============================] - 0s 74us/step - loss: 60.4953 - mae: 5.5653 - val_loss: 63.5064 - val_mae: 6.0142\n",
            "Epoch 51/100\n",
            "323/323 [==============================] - 0s 71us/step - loss: 56.4937 - mae: 5.3941 - val_loss: 58.3208 - val_mae: 5.7424\n",
            "Epoch 52/100\n",
            "323/323 [==============================] - 0s 66us/step - loss: 52.9003 - mae: 5.2169 - val_loss: 54.3089 - val_mae: 5.5335\n",
            "Epoch 53/100\n",
            "323/323 [==============================] - 0s 70us/step - loss: 50.0214 - mae: 5.0805 - val_loss: 50.5538 - val_mae: 5.3323\n",
            "Epoch 54/100\n",
            "323/323 [==============================] - 0s 73us/step - loss: 47.4147 - mae: 4.9504 - val_loss: 47.8707 - val_mae: 5.2007\n",
            "Epoch 55/100\n",
            "323/323 [==============================] - 0s 69us/step - loss: 45.4367 - mae: 4.8484 - val_loss: 45.7306 - val_mae: 5.0745\n",
            "Epoch 56/100\n",
            "323/323 [==============================] - 0s 97us/step - loss: 43.5052 - mae: 4.7371 - val_loss: 43.2640 - val_mae: 4.9480\n",
            "Epoch 57/100\n",
            "323/323 [==============================] - 0s 76us/step - loss: 41.5203 - mae: 4.6123 - val_loss: 41.1458 - val_mae: 4.8346\n",
            "Epoch 58/100\n",
            "323/323 [==============================] - 0s 77us/step - loss: 39.5881 - mae: 4.5019 - val_loss: 39.0712 - val_mae: 4.6936\n",
            "Epoch 59/100\n",
            "323/323 [==============================] - 0s 70us/step - loss: 37.6791 - mae: 4.3686 - val_loss: 37.1959 - val_mae: 4.6003\n",
            "Epoch 60/100\n",
            "323/323 [==============================] - 0s 77us/step - loss: 36.1467 - mae: 4.2568 - val_loss: 35.0287 - val_mae: 4.5113\n",
            "Epoch 61/100\n",
            "323/323 [==============================] - 0s 84us/step - loss: 34.6266 - mae: 4.1779 - val_loss: 33.2571 - val_mae: 4.4057\n",
            "Epoch 62/100\n",
            "323/323 [==============================] - 0s 66us/step - loss: 33.1863 - mae: 4.0960 - val_loss: 31.7347 - val_mae: 4.2607\n",
            "Epoch 63/100\n",
            "323/323 [==============================] - 0s 61us/step - loss: 31.7051 - mae: 3.9702 - val_loss: 29.8645 - val_mae: 4.1750\n",
            "Epoch 64/100\n",
            "323/323 [==============================] - 0s 57us/step - loss: 30.5390 - mae: 3.8851 - val_loss: 28.9026 - val_mae: 4.1148\n",
            "Epoch 65/100\n",
            "323/323 [==============================] - 0s 56us/step - loss: 29.6356 - mae: 3.8340 - val_loss: 27.8400 - val_mae: 4.0518\n",
            "Epoch 66/100\n",
            "323/323 [==============================] - 0s 57us/step - loss: 28.7193 - mae: 3.7789 - val_loss: 26.8119 - val_mae: 3.9436\n",
            "Epoch 67/100\n",
            "323/323 [==============================] - 0s 60us/step - loss: 27.7452 - mae: 3.6843 - val_loss: 25.7645 - val_mae: 3.8621\n",
            "Epoch 68/100\n",
            "323/323 [==============================] - 0s 55us/step - loss: 26.9647 - mae: 3.6019 - val_loss: 25.0015 - val_mae: 3.8115\n",
            "Epoch 69/100\n",
            "323/323 [==============================] - 0s 54us/step - loss: 26.2433 - mae: 3.5250 - val_loss: 24.2262 - val_mae: 3.7732\n",
            "Epoch 70/100\n",
            "323/323 [==============================] - 0s 71us/step - loss: 25.6720 - mae: 3.4864 - val_loss: 23.5326 - val_mae: 3.7360\n",
            "Epoch 71/100\n",
            "323/323 [==============================] - 0s 55us/step - loss: 24.9852 - mae: 3.4496 - val_loss: 22.9691 - val_mae: 3.6947\n",
            "Epoch 72/100\n",
            "323/323 [==============================] - 0s 55us/step - loss: 24.4663 - mae: 3.4275 - val_loss: 22.3426 - val_mae: 3.6522\n",
            "Epoch 73/100\n",
            "323/323 [==============================] - 0s 56us/step - loss: 23.9131 - mae: 3.3900 - val_loss: 21.7860 - val_mae: 3.6125\n",
            "Epoch 74/100\n",
            "323/323 [==============================] - 0s 63us/step - loss: 23.4297 - mae: 3.3559 - val_loss: 21.2040 - val_mae: 3.5670\n",
            "Epoch 75/100\n",
            "323/323 [==============================] - 0s 63us/step - loss: 23.0462 - mae: 3.3259 - val_loss: 21.0408 - val_mae: 3.5330\n",
            "Epoch 76/100\n",
            "323/323 [==============================] - 0s 54us/step - loss: 22.7342 - mae: 3.2919 - val_loss: 20.8661 - val_mae: 3.5225\n",
            "Epoch 77/100\n",
            "323/323 [==============================] - 0s 59us/step - loss: 22.4780 - mae: 3.2968 - val_loss: 20.4351 - val_mae: 3.4785\n",
            "Epoch 78/100\n",
            "323/323 [==============================] - 0s 63us/step - loss: 22.1435 - mae: 3.2431 - val_loss: 20.1064 - val_mae: 3.4590\n",
            "Epoch 79/100\n",
            "323/323 [==============================] - 0s 63us/step - loss: 21.8415 - mae: 3.2471 - val_loss: 20.0006 - val_mae: 3.4445\n",
            "Epoch 80/100\n",
            "323/323 [==============================] - 0s 64us/step - loss: 21.5938 - mae: 3.2556 - val_loss: 19.4394 - val_mae: 3.4099\n",
            "Epoch 81/100\n",
            "323/323 [==============================] - 0s 64us/step - loss: 21.2691 - mae: 3.2145 - val_loss: 19.1257 - val_mae: 3.3938\n",
            "Epoch 82/100\n",
            "323/323 [==============================] - 0s 65us/step - loss: 21.0452 - mae: 3.2021 - val_loss: 19.0929 - val_mae: 3.3736\n",
            "Epoch 83/100\n",
            "323/323 [==============================] - 0s 69us/step - loss: 20.7866 - mae: 3.1876 - val_loss: 18.7954 - val_mae: 3.3515\n",
            "Epoch 84/100\n",
            "323/323 [==============================] - 0s 68us/step - loss: 20.5461 - mae: 3.1642 - val_loss: 18.5302 - val_mae: 3.3341\n",
            "Epoch 85/100\n",
            "323/323 [==============================] - 0s 61us/step - loss: 20.4079 - mae: 3.1475 - val_loss: 18.3845 - val_mae: 3.3029\n",
            "Epoch 86/100\n",
            "323/323 [==============================] - 0s 62us/step - loss: 20.1368 - mae: 3.1361 - val_loss: 18.4959 - val_mae: 3.3029\n",
            "Epoch 87/100\n",
            "323/323 [==============================] - 0s 59us/step - loss: 20.0356 - mae: 3.1369 - val_loss: 18.0340 - val_mae: 3.2719\n",
            "Epoch 88/100\n",
            "323/323 [==============================] - 0s 66us/step - loss: 19.7031 - mae: 3.1001 - val_loss: 17.8041 - val_mae: 3.2621\n",
            "Epoch 89/100\n",
            "323/323 [==============================] - 0s 66us/step - loss: 19.5278 - mae: 3.0884 - val_loss: 17.6090 - val_mae: 3.2466\n",
            "Epoch 90/100\n",
            "323/323 [==============================] - 0s 65us/step - loss: 19.3096 - mae: 3.0803 - val_loss: 17.3972 - val_mae: 3.2289\n",
            "Epoch 91/100\n",
            "323/323 [==============================] - 0s 70us/step - loss: 19.1216 - mae: 3.0554 - val_loss: 17.2269 - val_mae: 3.2179\n",
            "Epoch 92/100\n",
            "323/323 [==============================] - 0s 66us/step - loss: 18.8721 - mae: 3.0386 - val_loss: 16.9669 - val_mae: 3.1992\n",
            "Epoch 93/100\n",
            "323/323 [==============================] - 0s 80us/step - loss: 18.6993 - mae: 3.0287 - val_loss: 16.8019 - val_mae: 3.1816\n",
            "Epoch 94/100\n",
            "323/323 [==============================] - 0s 65us/step - loss: 18.4692 - mae: 3.0371 - val_loss: 16.6477 - val_mae: 3.1692\n",
            "Epoch 95/100\n",
            "323/323 [==============================] - 0s 64us/step - loss: 18.3300 - mae: 3.0259 - val_loss: 16.4408 - val_mae: 3.1494\n",
            "Epoch 96/100\n",
            "323/323 [==============================] - 0s 62us/step - loss: 18.1886 - mae: 3.0023 - val_loss: 16.2053 - val_mae: 3.1315\n",
            "Epoch 97/100\n",
            "323/323 [==============================] - 0s 62us/step - loss: 18.1157 - mae: 2.9874 - val_loss: 16.0680 - val_mae: 3.1264\n",
            "Epoch 98/100\n",
            "323/323 [==============================] - 0s 61us/step - loss: 17.9186 - mae: 2.9710 - val_loss: 16.1130 - val_mae: 3.1026\n",
            "Epoch 99/100\n",
            "323/323 [==============================] - 0s 63us/step - loss: 17.7354 - mae: 2.9506 - val_loss: 15.7768 - val_mae: 3.0872\n",
            "Epoch 100/100\n",
            "323/323 [==============================] - 0s 60us/step - loss: 17.5787 - mae: 2.9423 - val_loss: 15.5953 - val_mae: 3.0731\n"
          ],
          "name": "stdout"
        },
        {
          "output_type": "execute_result",
          "data": {
            "text/plain": [
              "<keras.callbacks.callbacks.History at 0x7fc93d22f940>"
            ]
          },
          "metadata": {
            "tags": []
          },
          "execution_count": 18
        }
      ]
    },
    {
      "cell_type": "markdown",
      "metadata": {
        "id": "aG4QRU1vnlCs",
        "colab_type": "text"
      },
      "source": [
        "Evaluating the model"
      ]
    },
    {
      "cell_type": "code",
      "metadata": {
        "id": "NDoKLRbQnXVw",
        "colab_type": "code",
        "colab": {
          "base_uri": "https://localhost:8080/",
          "height": 51
        },
        "outputId": "2d0e2774-1139-4b14-8bce-0aba9134e526"
      },
      "source": [
        "model.evaluate(newxtest, ytest)"
      ],
      "execution_count": 19,
      "outputs": [
        {
          "output_type": "stream",
          "text": [
            "102/102 [==============================] - 0s 65us/step\n"
          ],
          "name": "stdout"
        },
        {
          "output_type": "execute_result",
          "data": {
            "text/plain": [
              "[22.979517768411075, 3.624255418777466]"
            ]
          },
          "metadata": {
            "tags": []
          },
          "execution_count": 19
        }
      ]
    }
  ]
}