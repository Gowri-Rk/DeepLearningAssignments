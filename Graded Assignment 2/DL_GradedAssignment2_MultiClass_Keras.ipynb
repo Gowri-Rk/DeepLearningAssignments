{
  "nbformat": 4,
  "nbformat_minor": 0,
  "metadata": {
    "colab": {
      "name": "DL_GradedAssignment2_MultiClass_Keras.ipynb",
      "provenance": [],
      "collapsed_sections": [],
      "authorship_tag": "ABX9TyOkgLegAMzCI6HCWA4jQsh+",
      "include_colab_link": true
    },
    "kernelspec": {
      "name": "python3",
      "display_name": "Python 3"
    },
    "accelerator": "GPU"
  },
  "cells": [
    {
      "cell_type": "markdown",
      "metadata": {
        "id": "view-in-github",
        "colab_type": "text"
      },
      "source": [
        "<a href=\"https://colab.research.google.com/github/Gowri-Rk/DeepLearningAssignments/blob/master/Graded%20Assignment%202/DL_GradedAssignment2_MultiClass_Keras.ipynb\" target=\"_parent\"><img src=\"https://colab.research.google.com/assets/colab-badge.svg\" alt=\"Open In Colab\"/></a>"
      ]
    },
    {
      "cell_type": "markdown",
      "metadata": {
        "id": "OxolQkWWM5Gq",
        "colab_type": "text"
      },
      "source": [
        "**Multi Class classification with Keras using Iris flower dataset**"
      ]
    },
    {
      "cell_type": "code",
      "metadata": {
        "id": "mVyVvX1NNApm",
        "colab_type": "code",
        "colab": {}
      },
      "source": [
        "import pandas as pd\n",
        "from keras.models import Sequential\n",
        "from keras.layers import Dense\n",
        "from keras.wrappers.scikit_learn import KerasClassifier\n",
        "from keras.utils import np_utils\n",
        "from sklearn.model_selection import cross_val_score\n",
        "from sklearn.model_selection import KFold\n",
        "from sklearn.preprocessing import LabelEncoder\n",
        "from sklearn.pipeline import Pipeline"
      ],
      "execution_count": 0,
      "outputs": []
    },
    {
      "cell_type": "code",
      "metadata": {
        "id": "AQZH7P23NkFq",
        "colab_type": "code",
        "outputId": "d7033d24-49db-435b-c47b-d841c7fbdb70",
        "colab": {
          "base_uri": "https://localhost:8080/",
          "height": 121
        }
      },
      "source": [
        "from google.colab import drive\n",
        "drive.mount('/content/gdrive', force_remount = True)"
      ],
      "execution_count": 0,
      "outputs": [
        {
          "output_type": "stream",
          "text": [
            "Go to this URL in a browser: https://accounts.google.com/o/oauth2/auth?client_id=947318989803-6bn6qk8qdgf4n4g3pfee6491hc0brc4i.apps.googleusercontent.com&redirect_uri=urn%3aietf%3awg%3aoauth%3a2.0%3aoob&response_type=code&scope=email%20https%3a%2f%2fwww.googleapis.com%2fauth%2fdocs.test%20https%3a%2f%2fwww.googleapis.com%2fauth%2fdrive%20https%3a%2f%2fwww.googleapis.com%2fauth%2fdrive.photos.readonly%20https%3a%2f%2fwww.googleapis.com%2fauth%2fpeopleapi.readonly\n",
            "\n",
            "Enter your authorization code:\n",
            "··········\n",
            "Mounted at /content/gdrive\n"
          ],
          "name": "stdout"
        }
      ]
    },
    {
      "cell_type": "code",
      "metadata": {
        "id": "Q7uT3OijNQpg",
        "colab_type": "code",
        "colab": {}
      },
      "source": [
        "df_iris = pd.read_csv(\"/content/gdrive/My Drive/Colab Datasets/iris.data\", header=None)\n",
        "iris = df_iris.values\n",
        "X = iris[:,0:4].astype(float)\n",
        "Y = iris[:,4]"
      ],
      "execution_count": 0,
      "outputs": []
    },
    {
      "cell_type": "markdown",
      "metadata": {
        "id": "9zQxwxH1PMwT",
        "colab_type": "text"
      },
      "source": [
        "Encoding text using label encoder"
      ]
    },
    {
      "cell_type": "code",
      "metadata": {
        "id": "_-dYi7iUORTe",
        "colab_type": "code",
        "colab": {}
      },
      "source": [
        "encoder = LabelEncoder()\n",
        "encoder.fit(Y)\n",
        "encoded_Y = encoder.transform(Y)\n",
        "dummy_y = np_utils.to_categorical(encoded_Y)"
      ],
      "execution_count": 0,
      "outputs": []
    },
    {
      "cell_type": "markdown",
      "metadata": {
        "id": "7CU2__i3Px4d",
        "colab_type": "text"
      },
      "source": [
        "## Base model neural network"
      ]
    },
    {
      "cell_type": "code",
      "metadata": {
        "id": "v_SlBKqHPZ3G",
        "colab_type": "code",
        "colab": {}
      },
      "source": [
        "def base_model():\n",
        "  model = Sequential()\n",
        "  model.add(Dense(8, input_dim = 4, activation='relu'))\n",
        "  model.add(Dense(3, activation='softmax'))\n",
        "\n",
        "  #compiling the model\n",
        "  model.compile(loss='categorical_crossentropy', optimizer='adam', metrics=['accuracy'])\n",
        "  return model"
      ],
      "execution_count": 0,
      "outputs": []
    },
    {
      "cell_type": "code",
      "metadata": {
        "id": "ZO-z7p_7QZJF",
        "colab_type": "code",
        "colab": {}
      },
      "source": [
        "estimator = KerasClassifier(build_fn=base_model, epochs=200, batch_size=5, verbose=0)"
      ],
      "execution_count": 0,
      "outputs": []
    },
    {
      "cell_type": "markdown",
      "metadata": {
        "id": "-mjgaheoRfMO",
        "colab_type": "text"
      },
      "source": [
        "validation"
      ]
    },
    {
      "cell_type": "code",
      "metadata": {
        "id": "CG6EJ8XGQs5e",
        "colab_type": "code",
        "colab": {}
      },
      "source": [
        "kfold = KFold(n_splits=10, shuffle=True)"
      ],
      "execution_count": 0,
      "outputs": []
    },
    {
      "cell_type": "code",
      "metadata": {
        "id": "CG4V6VJMRgRu",
        "colab_type": "code",
        "outputId": "3fb06f5c-ee68-4dc9-eee6-b4b9ec612b33",
        "colab": {
          "base_uri": "https://localhost:8080/",
          "height": 34
        }
      },
      "source": [
        "results = cross_val_score(estimator, X, dummy_y, cv=kfold)\n",
        "print(\"Baseline: %.2f%% (%.2f%%)\" % (results.mean()*100, results.std()*100))"
      ],
      "execution_count": 0,
      "outputs": [
        {
          "output_type": "stream",
          "text": [
            "Baseline: 97.33% (4.42%)\n"
          ],
          "name": "stdout"
        }
      ]
    },
    {
      "cell_type": "code",
      "metadata": {
        "id": "lo7Q7J1kRmAC",
        "colab_type": "code",
        "colab": {}
      },
      "source": [
        ""
      ],
      "execution_count": 0,
      "outputs": []
    }
  ]
}