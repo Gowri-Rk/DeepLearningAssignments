{
  "nbformat": 4,
  "nbformat_minor": 0,
  "metadata": {
    "colab": {
      "name": "DL_GradedAssignment2_SparseCategoricalEntropy.ipynb",
      "provenance": [],
      "collapsed_sections": [],
      "authorship_tag": "ABX9TyMKYoJkrLUJMMTYrJZ13Zzc",
      "include_colab_link": true
    },
    "kernelspec": {
      "name": "python3",
      "display_name": "Python 3"
    }
  },
  "cells": [
    {
      "cell_type": "markdown",
      "metadata": {
        "id": "view-in-github",
        "colab_type": "text"
      },
      "source": [
        "<a href=\"https://colab.research.google.com/github/Gowri-Rk/DeepLearningAssignments/blob/master/Graded%20Assignment%202/DL_GradedAssignment2_SparseCategoricalEntropy.ipynb\" target=\"_parent\"><img src=\"https://colab.research.google.com/assets/colab-badge.svg\" alt=\"Open In Colab\"/></a>"
      ]
    },
    {
      "cell_type": "markdown",
      "metadata": {
        "id": "CxPOQ3M6LN_2",
        "colab_type": "text"
      },
      "source": [
        "# Keras model with CNN and sparse categorical entropy using Fashion dataset"
      ]
    },
    {
      "cell_type": "markdown",
      "metadata": {
        "id": "rdLJiJ4FLYk7",
        "colab_type": "text"
      },
      "source": [
        "Imports"
      ]
    },
    {
      "cell_type": "code",
      "metadata": {
        "id": "sBu-ke3VLSBf",
        "colab_type": "code",
        "colab": {}
      },
      "source": [
        "import keras\n",
        "from keras.datasets import fashion_mnist\n",
        "from keras.models import Sequential\n",
        "from keras.layers import Dense, Dropout, Flatten\n",
        "from keras.layers import Conv2D, MaxPooling2D\n",
        "from keras import backend as KerasBackend"
      ],
      "execution_count": 0,
      "outputs": []
    },
    {
      "cell_type": "code",
      "metadata": {
        "id": "6g3Sj84VLer6",
        "colab_type": "code",
        "colab": {}
      },
      "source": [
        "import matplotlib.pyplot as plt\n",
        "%matplotlib inline"
      ],
      "execution_count": 0,
      "outputs": []
    },
    {
      "cell_type": "code",
      "metadata": {
        "id": "IzQV_Z1cLwi9",
        "colab_type": "code",
        "colab": {}
      },
      "source": [
        "batch_size = 128\n",
        "num_classes = 10\n",
        "epochs = 12"
      ],
      "execution_count": 0,
      "outputs": []
    },
    {
      "cell_type": "code",
      "metadata": {
        "id": "GRp4MtEsL1eS",
        "colab_type": "code",
        "colab": {}
      },
      "source": [
        "img_rows, img_cols = 28, 28"
      ],
      "execution_count": 0,
      "outputs": []
    },
    {
      "cell_type": "markdown",
      "metadata": {
        "id": "vallHDjrL7SR",
        "colab_type": "text"
      },
      "source": [
        "Load the data and split into training and testing"
      ]
    },
    {
      "cell_type": "code",
      "metadata": {
        "id": "fVYP-v8_L4ag",
        "colab_type": "code",
        "colab": {
          "base_uri": "https://localhost:8080/",
          "height": 151
        },
        "outputId": "7846a88b-e1ae-4879-e711-a37653a5d33a"
      },
      "source": [
        "(x_train, y_train), (x_test, y_test) = fashion_mnist.load_data()"
      ],
      "execution_count": 40,
      "outputs": [
        {
          "output_type": "stream",
          "text": [
            "Downloading data from http://fashion-mnist.s3-website.eu-central-1.amazonaws.com/train-labels-idx1-ubyte.gz\n",
            "32768/29515 [=================================] - 0s 3us/step\n",
            "Downloading data from http://fashion-mnist.s3-website.eu-central-1.amazonaws.com/train-images-idx3-ubyte.gz\n",
            "26427392/26421880 [==============================] - 2s 0us/step\n",
            "Downloading data from http://fashion-mnist.s3-website.eu-central-1.amazonaws.com/t10k-labels-idx1-ubyte.gz\n",
            "8192/5148 [===============================================] - 0s 0us/step\n",
            "Downloading data from http://fashion-mnist.s3-website.eu-central-1.amazonaws.com/t10k-images-idx3-ubyte.gz\n",
            "4423680/4422102 [==============================] - 1s 0us/step\n"
          ],
          "name": "stdout"
        }
      ]
    },
    {
      "cell_type": "code",
      "metadata": {
        "id": "BwCnV8-YMUq5",
        "colab_type": "code",
        "colab": {
          "base_uri": "https://localhost:8080/",
          "height": 34
        },
        "outputId": "2120f126-178a-45a3-ef4f-36349acc84a8"
      },
      "source": [
        "x_train.shape"
      ],
      "execution_count": 41,
      "outputs": [
        {
          "output_type": "execute_result",
          "data": {
            "text/plain": [
              "(60000, 28, 28)"
            ]
          },
          "metadata": {
            "tags": []
          },
          "execution_count": 41
        }
      ]
    },
    {
      "cell_type": "code",
      "metadata": {
        "id": "xBxrJNPJMX8x",
        "colab_type": "code",
        "colab": {
          "base_uri": "https://localhost:8080/",
          "height": 34
        },
        "outputId": "c253b72e-6885-4511-d60d-df351c1ebdee"
      },
      "source": [
        "x_test.shape"
      ],
      "execution_count": 42,
      "outputs": [
        {
          "output_type": "execute_result",
          "data": {
            "text/plain": [
              "(10000, 28, 28)"
            ]
          },
          "metadata": {
            "tags": []
          },
          "execution_count": 42
        }
      ]
    },
    {
      "cell_type": "markdown",
      "metadata": {
        "id": "LkGjlXc0MLnN",
        "colab_type": "text"
      },
      "source": [
        "Reshape the data"
      ]
    },
    {
      "cell_type": "code",
      "metadata": {
        "id": "6P-MVDJAL_hD",
        "colab_type": "code",
        "colab": {}
      },
      "source": [
        "x_train = x_train.reshape(x_train.shape[0], img_rows, img_cols, 1)\n",
        "x_test = x_test.reshape(x_test.shape[0], img_rows, img_cols, 1)\n",
        "input_shape = (img_rows, img_cols, 1)"
      ],
      "execution_count": 0,
      "outputs": []
    },
    {
      "cell_type": "code",
      "metadata": {
        "id": "EyZjFsJXMHfW",
        "colab_type": "code",
        "colab": {
          "base_uri": "https://localhost:8080/",
          "height": 34
        },
        "outputId": "90fb5d94-b7f6-4f79-f21a-81d9d6490ba9"
      },
      "source": [
        "x_train.shape[0]"
      ],
      "execution_count": 44,
      "outputs": [
        {
          "output_type": "execute_result",
          "data": {
            "text/plain": [
              "60000"
            ]
          },
          "metadata": {
            "tags": []
          },
          "execution_count": 44
        }
      ]
    },
    {
      "cell_type": "code",
      "metadata": {
        "id": "hGUazNUUNfz3",
        "colab_type": "code",
        "colab": {
          "base_uri": "https://localhost:8080/",
          "height": 34
        },
        "outputId": "bb4970aa-6d30-4815-84f0-56cb3705de9c"
      },
      "source": [
        "input_shape"
      ],
      "execution_count": 45,
      "outputs": [
        {
          "output_type": "execute_result",
          "data": {
            "text/plain": [
              "(28, 28, 1)"
            ]
          },
          "metadata": {
            "tags": []
          },
          "execution_count": 45
        }
      ]
    },
    {
      "cell_type": "markdown",
      "metadata": {
        "id": "uSPSq1USMidY",
        "colab_type": "text"
      },
      "source": [
        "Normalize the data"
      ]
    },
    {
      "cell_type": "code",
      "metadata": {
        "id": "eAWSIR9vMSqP",
        "colab_type": "code",
        "colab": {}
      },
      "source": [
        "x_train = x_train.astype('float32')\n",
        "x_test = x_test.astype('float32')"
      ],
      "execution_count": 0,
      "outputs": []
    },
    {
      "cell_type": "code",
      "metadata": {
        "id": "y0iv6V2UMo5K",
        "colab_type": "code",
        "colab": {}
      },
      "source": [
        "x_train /= 255\n",
        "x_test /= 255"
      ],
      "execution_count": 0,
      "outputs": []
    },
    {
      "cell_type": "code",
      "metadata": {
        "id": "ZDoVelkkMz8w",
        "colab_type": "code",
        "colab": {
          "base_uri": "https://localhost:8080/",
          "height": 67
        },
        "outputId": "2dbfee8e-32d8-44da-b729-42210b6d6ac5"
      },
      "source": [
        "print('x_train shape:', x_train.shape)\n",
        "print(x_train.shape[0], 'train samples')\n",
        "print(x_test.shape[0], 'test samples')"
      ],
      "execution_count": 48,
      "outputs": [
        {
          "output_type": "stream",
          "text": [
            "x_train shape: (60000, 28, 28, 1)\n",
            "60000 train samples\n",
            "10000 test samples\n"
          ],
          "name": "stdout"
        }
      ]
    },
    {
      "cell_type": "code",
      "metadata": {
        "id": "JDlxQETYXsDz",
        "colab_type": "code",
        "colab": {}
      },
      "source": [
        "train_image_1 = x_train[0]"
      ],
      "execution_count": 0,
      "outputs": []
    },
    {
      "cell_type": "code",
      "metadata": {
        "id": "eqxeOAc5Xxv7",
        "colab_type": "code",
        "colab": {
          "base_uri": "https://localhost:8080/",
          "height": 282
        },
        "outputId": "bcbb38a9-bf53-4c28-daf0-31963955a5d4"
      },
      "source": [
        "plt.imshow(train_image_1.reshape((28,28)))"
      ],
      "execution_count": 50,
      "outputs": [
        {
          "output_type": "execute_result",
          "data": {
            "text/plain": [
              "<matplotlib.image.AxesImage at 0x7f63e0729a90>"
            ]
          },
          "metadata": {
            "tags": []
          },
          "execution_count": 50
        },
        {
          "output_type": "display_data",
          "data": {
            "image/png": "[encoded data removed]",
            "text/plain": [
              "<Figure size 432x288 with 1 Axes>"
            ]
          },
          "metadata": {
            "tags": [],
            "needs_background": "light"
          }
        }
      ]
    },
    {
      "cell_type": "markdown",
      "metadata": {
        "id": "ohi4R0apM5u8",
        "colab_type": "text"
      },
      "source": [
        "Building the keras model"
      ]
    },
    {
      "cell_type": "code",
      "metadata": {
        "id": "-fnZrgznM29K",
        "colab_type": "code",
        "colab": {}
      },
      "source": [
        "model = Sequential()\n",
        "model.add(Conv2D(32, kernel_size=(3, 3),\n",
        "                 activation='relu',\n",
        "                 input_shape=input_shape))\n",
        "model.add(Conv2D(64, (3, 3), activation='relu'))\n",
        "model.add(MaxPooling2D(pool_size=(2, 2)))\n",
        "model.add(Dropout(0.25))\n",
        "model.add(Flatten())\n",
        "model.add(Dense(128, activation='relu'))\n",
        "model.add(Dropout(0.5))\n",
        "model.add(Dense(num_classes, activation='softmax'))\n",
        "\n",
        "model.compile(\n",
        "            optimizer=keras.optimizers.Adadelta(),\n",
        "            loss='sparse_categorical_crossentropy',\n",
        "            metrics=['sparse_categorical_accuracy'])"
      ],
      "execution_count": 0,
      "outputs": []
    },
    {
      "cell_type": "code",
      "metadata": {
        "id": "iIuuiUkMNW4O",
        "colab_type": "code",
        "colab": {
          "base_uri": "https://localhost:8080/",
          "height": 420
        },
        "outputId": "8064ab57-8e0c-4b58-9743-6c2ebd7ddb48"
      },
      "source": [
        "model.summary()"
      ],
      "execution_count": 52,
      "outputs": [
        {
          "output_type": "stream",
          "text": [
            "Model: \"sequential_4\"\n",
            "_________________________________________________________________\n",
            "Layer (type)                 Output Shape              Param #   \n",
            "=================================================================\n",
            "conv2d_4 (Conv2D)            (None, 26, 26, 32)        320       \n",
            "_________________________________________________________________\n",
            "conv2d_5 (Conv2D)            (None, 24, 24, 64)        18496     \n",
            "_________________________________________________________________\n",
            "max_pooling2d_2 (MaxPooling2 (None, 12, 12, 64)        0         \n",
            "_________________________________________________________________\n",
            "dropout_3 (Dropout)          (None, 12, 12, 64)        0         \n",
            "_________________________________________________________________\n",
            "flatten_2 (Flatten)          (None, 9216)              0         \n",
            "_________________________________________________________________\n",
            "dense_3 (Dense)              (None, 128)               1179776   \n",
            "_________________________________________________________________\n",
            "dropout_4 (Dropout)          (None, 128)               0         \n",
            "_________________________________________________________________\n",
            "dense_4 (Dense)              (None, 10)                1290      \n",
            "=================================================================\n",
            "Total params: 1,199,882\n",
            "Trainable params: 1,199,882\n",
            "Non-trainable params: 0\n",
            "_________________________________________________________________\n"
          ],
          "name": "stdout"
        }
      ]
    },
    {
      "cell_type": "code",
      "metadata": {
        "id": "WppjtgbXOkLx",
        "colab_type": "code",
        "colab": {
          "base_uri": "https://localhost:8080/",
          "height": 470
        },
        "outputId": "6ee01aeb-284a-4ee7-ef9e-0bd1f816848c"
      },
      "source": [
        "model.fit(x_train, y_train,\n",
        "          batch_size=batch_size,\n",
        "          epochs=epochs,\n",
        "          verbose=1,\n",
        "          validation_data=(x_test, y_test))\n",
        "score = model.evaluate(x_test, y_test, verbose=0)\n",
        "print('Test loss:', score[0])\n",
        "print('Test accuracy:', score[1])"
      ],
      "execution_count": 53,
      "outputs": [
        {
          "output_type": "stream",
          "text": [
            "Train on 60000 samples, validate on 10000 samples\n",
            "Epoch 1/12\n",
            "60000/60000 [==============================] - 143s 2ms/step - loss: 0.5674 - sparse_categorical_accuracy: 0.8001 - val_loss: 0.3739 - val_sparse_categorical_accuracy: 0.8674\n",
            "Epoch 2/12\n",
            "60000/60000 [==============================] - 142s 2ms/step - loss: 0.3599 - sparse_categorical_accuracy: 0.8716 - val_loss: 0.3162 - val_sparse_categorical_accuracy: 0.8819\n",
            "Epoch 3/12\n",
            "60000/60000 [==============================] - 148s 2ms/step - loss: 0.3071 - sparse_categorical_accuracy: 0.8914 - val_loss: 0.2823 - val_sparse_categorical_accuracy: 0.9006\n",
            "Epoch 4/12\n",
            "60000/60000 [==============================] - 143s 2ms/step - loss: 0.2756 - sparse_categorical_accuracy: 0.8998 - val_loss: 0.2557 - val_sparse_categorical_accuracy: 0.9066\n",
            "Epoch 5/12\n",
            "60000/60000 [==============================] - 143s 2ms/step - loss: 0.2494 - sparse_categorical_accuracy: 0.9110 - val_loss: 0.2444 - val_sparse_categorical_accuracy: 0.9104\n",
            "Epoch 6/12\n",
            "60000/60000 [==============================] - 143s 2ms/step - loss: 0.2307 - sparse_categorical_accuracy: 0.9168 - val_loss: 0.2337 - val_sparse_categorical_accuracy: 0.9130\n",
            "Epoch 7/12\n",
            "60000/60000 [==============================] - 143s 2ms/step - loss: 0.2161 - sparse_categorical_accuracy: 0.9227 - val_loss: 0.2357 - val_sparse_categorical_accuracy: 0.9153\n",
            "Epoch 8/12\n",
            "60000/60000 [==============================] - 143s 2ms/step - loss: 0.2028 - sparse_categorical_accuracy: 0.9263 - val_loss: 0.2373 - val_sparse_categorical_accuracy: 0.9129\n",
            "Epoch 9/12\n",
            "60000/60000 [==============================] - 143s 2ms/step - loss: 0.1925 - sparse_categorical_accuracy: 0.9309 - val_loss: 0.2196 - val_sparse_categorical_accuracy: 0.9227\n",
            "Epoch 10/12\n",
            "60000/60000 [==============================] - 143s 2ms/step - loss: 0.1817 - sparse_categorical_accuracy: 0.9346 - val_loss: 0.2121 - val_sparse_categorical_accuracy: 0.9251\n",
            "Epoch 11/12\n",
            "60000/60000 [==============================] - 143s 2ms/step - loss: 0.1715 - sparse_categorical_accuracy: 0.9390 - val_loss: 0.2231 - val_sparse_categorical_accuracy: 0.9232\n",
            "Epoch 12/12\n",
            "60000/60000 [==============================] - 142s 2ms/step - loss: 0.1649 - sparse_categorical_accuracy: 0.9407 - val_loss: 0.2095 - val_sparse_categorical_accuracy: 0.9276\n",
            "Test loss: 0.20952005622982978\n",
            "Test accuracy: 0.9276000261306763\n"
          ],
          "name": "stdout"
        }
      ]
    },
    {
      "cell_type": "code",
      "metadata": {
        "id": "swBexZA2Op-5",
        "colab_type": "code",
        "colab": {}
      },
      "source": [
        "test_image = x_test[0]"
      ],
      "execution_count": 0,
      "outputs": []
    },
    {
      "cell_type": "code",
      "metadata": {
        "id": "mgh_WcNvOtkz",
        "colab_type": "code",
        "colab": {
          "base_uri": "https://localhost:8080/",
          "height": 282
        },
        "outputId": "38079c74-ac85-4a23-c3bf-6b64601766c5"
      },
      "source": [
        "plt.imshow(test_image.reshape((28,28)))\n"
      ],
      "execution_count": 55,
      "outputs": [
        {
          "output_type": "execute_result",
          "data": {
            "text/plain": [
              "<matplotlib.image.AxesImage at 0x7f63e044e4e0>"
            ]
          },
          "metadata": {
            "tags": []
          },
          "execution_count": 55
        },
        {
          "output_type": "display_data",
          "data": {
            "image/png": "[encoded data removed]",
            "text/plain": [
              "<Figure size 432x288 with 1 Axes>"
            ]
          },
          "metadata": {
            "tags": [],
            "needs_background": "light"
          }
        }
      ]
    },
    {
      "cell_type": "code",
      "metadata": {
        "id": "lfFk8P-cOvcd",
        "colab_type": "code",
        "colab": {
          "base_uri": "https://localhost:8080/",
          "height": 67
        },
        "outputId": "cfb8e9d8-e258-4a6f-b822-a7decd9701c8"
      },
      "source": [
        "predicted = model.predict(test_image.reshape((1,28,28,1)))\n",
        "predicted"
      ],
      "execution_count": 58,
      "outputs": [
        {
          "output_type": "execute_result",
          "data": {
            "text/plain": [
              "array([[1.1457909e-10, 1.3407461e-10, 4.9687804e-10, 5.5757554e-10,\n",
              "        2.0077523e-10, 8.9780258e-07, 5.7743499e-10, 3.4813611e-06,\n",
              "        2.6037472e-09, 9.9999559e-01]], dtype=float32)"
            ]
          },
          "metadata": {
            "tags": []
          },
          "execution_count": 58
        }
      ]
    },
    {
      "cell_type": "code",
      "metadata": {
        "id": "m3P0EGwyOyQV",
        "colab_type": "code",
        "colab": {
          "base_uri": "https://localhost:8080/",
          "height": 34
        },
        "outputId": "541b42da-b55b-487c-9628-5d448146431e"
      },
      "source": [
        "predicted.argmax()\n"
      ],
      "execution_count": 59,
      "outputs": [
        {
          "output_type": "execute_result",
          "data": {
            "text/plain": [
              "9"
            ]
          },
          "metadata": {
            "tags": []
          },
          "execution_count": 59
        }
      ]
    },
    {
      "cell_type": "code",
      "metadata": {
        "id": "lBUq70bDWUth",
        "colab_type": "code",
        "colab": {}
      },
      "source": [
        ""
      ],
      "execution_count": 0,
      "outputs": []
    }
  ]
}