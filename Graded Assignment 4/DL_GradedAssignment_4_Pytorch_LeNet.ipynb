{
  "nbformat": 4,
  "nbformat_minor": 0,
  "metadata": {
    "colab": {
      "name": "DL_GradedAssignment_4_Pytorch_LeNet.ipynb",
      "provenance": [],
      "collapsed_sections": [],
      "authorship_tag": "ABX9TyPQgGpdWQSXCilIHEJe9Q7+",
      "include_colab_link": true
    },
    "kernelspec": {
      "name": "python3",
      "display_name": "Python 3"
    }
  },
  "cells": [
    {
      "cell_type": "markdown",
      "metadata": {
        "id": "view-in-github",
        "colab_type": "text"
      },
      "source": [
        "<a href=\"https://colab.research.google.com/github/Gowri-Rk/DeepLearningAssignments/blob/master/Graded%20Assignment%204/DL_GradedAssignment_4_Pytorch_LeNet.ipynb\" target=\"_parent\"><img src=\"https://colab.research.google.com/assets/colab-badge.svg\" alt=\"Open In Colab\"/></a>"
      ]
    },
    {
      "cell_type": "code",
      "metadata": {
        "id": "ecWgrM1FduyC",
        "colab_type": "code",
        "colab": {}
      },
      "source": [
        "import pandas as pd\n",
        "import numpy as np\n",
        "import torch\n",
        "\n",
        "from torch import nn, optim\n",
        "from torch.autograd import Variable\n",
        "import torch.nn.functional as F\n",
        "\n",
        "from sklearn.utils import shuffle\n",
        "import pandas as pd\n"
      ],
      "execution_count": 0,
      "outputs": []
    },
    {
      "cell_type": "code",
      "metadata": {
        "id": "lrEDrOVlgs5B",
        "colab_type": "code",
        "colab": {
          "base_uri": "https://localhost:8080/",
          "height": 121
        },
        "outputId": "e74948aa-6c89-4781-e051-00cd8c9ed0d0"
      },
      "source": [
        "from google.colab import  drive\n",
        "drive.mount('/content/gdrive')"
      ],
      "execution_count": 6,
      "outputs": [
        {
          "output_type": "stream",
          "text": [
            "Go to this URL in a browser: https://accounts.google.com/o/oauth2/auth?client_id=947318989803-6bn6qk8qdgf4n4g3pfee6491hc0brc4i.apps.googleusercontent.com&redirect_uri=urn%3aietf%3awg%3aoauth%3a2.0%3aoob&response_type=code&scope=email%20https%3a%2f%2fwww.googleapis.com%2fauth%2fdocs.test%20https%3a%2f%2fwww.googleapis.com%2fauth%2fdrive%20https%3a%2f%2fwww.googleapis.com%2fauth%2fdrive.photos.readonly%20https%3a%2f%2fwww.googleapis.com%2fauth%2fpeopleapi.readonly\n",
            "\n",
            "Enter your authorization code:\n",
            "··········\n",
            "Mounted at /content/gdrive\n"
          ],
          "name": "stdout"
        }
      ]
    },
    {
      "cell_type": "code",
      "metadata": {
        "id": "cugoZJ2OeMbn",
        "colab_type": "code",
        "colab": {}
      },
      "source": [
        "class LeNet(nn.Module):\n",
        "\tdef __init__(self):\n",
        "\t\tsuper(LeNet, self).__init__()\n",
        "\t\tself.conv1 = nn.Conv2d(1, 6, (5,5), padding=2)\n",
        "\t\tself.conv2 = nn.Conv2d(6, 16, (5,5))\n",
        "\t\tself.fc1   = nn.Linear(16*5*5, 120)\n",
        "\t\tself.fc2   = nn.Linear(120, 84)\n",
        "\t\tself.fc3   = nn.Linear(84, 10)\n",
        "\tdef forward(self, x):\n",
        "\t\tx = F.max_pool2d(F.relu(self.conv1(x)), (2,2))\n",
        "\t\tx = F.max_pool2d(F.relu(self.conv2(x)), (2,2))\n",
        "\t\tx = x.view(-1, self.num_flat_features(x))\n",
        "\t\tx = F.relu(self.fc1(x))\n",
        "\t\tx = F.relu(self.fc2(x))\n",
        "\t\tx = self.fc3(x)\n",
        "\t\treturn x\n",
        "\tdef num_flat_features(self, x):\n",
        "\t\tsize = x.size()[1:]\n",
        "\t\tnum_features = 1\n",
        "\t\tfor s in size:\n",
        "\t\t\tnum_features *= s\n",
        "\t\treturn num_features"
      ],
      "execution_count": 0,
      "outputs": []
    },
    {
      "cell_type": "code",
      "metadata": {
        "id": "N52Xy3UygsFs",
        "colab_type": "code",
        "colab": {
          "base_uri": "https://localhost:8080/",
          "height": 134
        },
        "outputId": "cad96a5f-628c-4c36-b502-76b937b97d0e"
      },
      "source": [
        "net = LeNet()\n",
        "print (net)"
      ],
      "execution_count": 8,
      "outputs": [
        {
          "output_type": "stream",
          "text": [
            "LeNet(\n",
            "  (conv1): Conv2d(1, 6, kernel_size=(5, 5), stride=(1, 1), padding=(2, 2))\n",
            "  (conv2): Conv2d(6, 16, kernel_size=(5, 5), stride=(1, 1))\n",
            "  (fc1): Linear(in_features=400, out_features=120, bias=True)\n",
            "  (fc2): Linear(in_features=120, out_features=84, bias=True)\n",
            "  (fc3): Linear(in_features=84, out_features=10, bias=True)\n",
            ")\n"
          ],
          "name": "stdout"
        }
      ]
    },
    {
      "cell_type": "code",
      "metadata": {
        "id": "kUNO9P_Lg4c1",
        "colab_type": "code",
        "colab": {
          "base_uri": "https://localhost:8080/",
          "height": 34
        },
        "outputId": "7d642ba4-d41e-46ee-969f-a71362c63a66"
      },
      "source": [
        "use_gpu = torch.cuda.is_available()\n",
        "if use_gpu:\n",
        "\tnet = net.cuda()\n",
        "\tprint ('USE GPU')\n",
        "else:\n",
        "\tprint ('USE CPU')"
      ],
      "execution_count": 9,
      "outputs": [
        {
          "output_type": "stream",
          "text": [
            "USE CPU\n"
          ],
          "name": "stdout"
        }
      ]
    },
    {
      "cell_type": "code",
      "metadata": {
        "id": "Tb15T_aQg6XG",
        "colab_type": "code",
        "colab": {}
      },
      "source": [
        "criterion = nn.CrossEntropyLoss()\n",
        "optimizer = optim.SGD(net.parameters(), lr=0.001)"
      ],
      "execution_count": 0,
      "outputs": []
    },
    {
      "cell_type": "code",
      "metadata": {
        "id": "qugq3GkBg8aP",
        "colab_type": "code",
        "colab": {
          "base_uri": "https://localhost:8080/",
          "height": 34
        },
        "outputId": "df193ca7-e9aa-4ecc-9cc7-962210adb898"
      },
      "source": [
        "train = pd.read_csv(\"/content/gdrive/My Drive/Colab Datasets/train.csv\").values\n",
        "train = shuffle(train)\n",
        "test  = pd.read_csv(\"/content/gdrive/My Drive/Colab Datasets/test.csv\").values"
      ],
      "execution_count": 13,
      "outputs": [
        {
          "output_type": "stream",
          "text": [
            "1. Loading data\n"
          ],
          "name": "stdout"
        }
      ]
    },
    {
      "cell_type": "code",
      "metadata": {
        "id": "k3F-nC7Og-Mb",
        "colab_type": "code",
        "colab": {
          "base_uri": "https://localhost:8080/",
          "height": 50
        },
        "outputId": "ea940081-63ac-44bc-a1e0-406158a6d510"
      },
      "source": [
        "X_data  = train[:, 1:].reshape(train.shape[0], 1, 28, 28)\n",
        "X_data  = X_data.astype(float)\n",
        "X_data /= 255.0\n",
        "X_data  = torch.from_numpy(X_data);\n",
        "X_label = train[:,0];\n",
        "X_label = X_label.astype(int);\n",
        "X_label = torch.from_numpy(X_label);\n",
        "X_label = X_label.view(train.shape[0],-1);\n",
        "print (X_data.size(), X_label.size())"
      ],
      "execution_count": 14,
      "outputs": [
        {
          "output_type": "stream",
          "text": [
            "2. Converting data\n",
            "torch.Size([42000, 1, 28, 28]) torch.Size([42000, 1])\n"
          ],
          "name": "stdout"
        }
      ]
    },
    {
      "cell_type": "code",
      "metadata": {
        "id": "hwpnP-lyhRNU",
        "colab_type": "code",
        "colab": {
          "base_uri": "https://localhost:8080/",
          "height": 34
        },
        "outputId": "bb640abf-acfc-4c0f-d77d-12957c04c98c"
      },
      "source": [
        "nb_train = train.shape[0]\n",
        "nb_epoch = 75000\n",
        "nb_index = 0\n",
        "nb_batch = 4"
      ],
      "execution_count": 15,
      "outputs": [
        {
          "output_type": "stream",
          "text": [
            "3. Training phase\n"
          ],
          "name": "stdout"
        }
      ]
    },
    {
      "cell_type": "code",
      "metadata": {
        "id": "vy4l_t_7hTAz",
        "colab_type": "code",
        "colab": {
          "base_uri": "https://localhost:8080/",
          "height": 638
        },
        "outputId": "92ccd6f8-ebab-4204-96c8-6eed7486c2c0"
      },
      "source": [
        "for epoch in range(nb_epoch):\n",
        "\tif nb_index + nb_batch >= nb_train:\n",
        "\t\tnb_index = 0\n",
        "\telse:\n",
        "\t\tnb_index = nb_index + nb_batch\n",
        "\n",
        "\tmini_data  = Variable(X_data[nb_index:(nb_index+nb_batch)].clone())\n",
        "\tmini_label = Variable(X_label[nb_index:(nb_index+nb_batch)].clone(), requires_grad = False)\n",
        "\tmini_data  = mini_data.type(torch.FloatTensor)\n",
        "\tmini_label = mini_label.type(torch.LongTensor)\n",
        "\tif use_gpu:\n",
        "\t\tmini_data  = mini_data.cuda()\n",
        "\t\tmini_label = mini_label.cuda()\n",
        "\toptimizer.zero_grad()\n",
        "\tmini_out   = net(mini_data)\n",
        "\tmini_label = mini_label.view(nb_batch)\n",
        "\tmini_loss  = criterion(mini_out, mini_label)\n",
        "\tmini_loss.backward()\n",
        "\toptimizer.step() \n",
        "\n",
        "\tif (epoch + 1) % 2000 == 0:\n",
        "\t\tprint(\"Epoch = %d, Loss = %f\" %(epoch+1, mini_loss.data))"
      ],
      "execution_count": 19,
      "outputs": [
        {
          "output_type": "stream",
          "text": [
            "Epoch = 2000, Loss = 2.287052\n",
            "Epoch = 4000, Loss = 2.310623\n",
            "Epoch = 6000, Loss = 2.259446\n",
            "Epoch = 8000, Loss = 1.999218\n",
            "Epoch = 10000, Loss = 1.120569\n",
            "Epoch = 12000, Loss = 0.474302\n",
            "Epoch = 14000, Loss = 0.700304\n",
            "Epoch = 16000, Loss = 0.081654\n",
            "Epoch = 18000, Loss = 0.052065\n",
            "Epoch = 20000, Loss = 0.427617\n",
            "Epoch = 22000, Loss = 0.873461\n",
            "Epoch = 24000, Loss = 0.024504\n",
            "Epoch = 26000, Loss = 0.009882\n",
            "Epoch = 28000, Loss = 0.165943\n",
            "Epoch = 30000, Loss = 0.073079\n",
            "Epoch = 32000, Loss = 0.123819\n",
            "Epoch = 34000, Loss = 0.029463\n",
            "Epoch = 36000, Loss = 0.023558\n",
            "Epoch = 38000, Loss = 0.150513\n",
            "Epoch = 40000, Loss = 0.003899\n",
            "Epoch = 42000, Loss = 0.003785\n",
            "Epoch = 44000, Loss = 0.001223\n",
            "Epoch = 46000, Loss = 0.019612\n",
            "Epoch = 48000, Loss = 0.012031\n",
            "Epoch = 50000, Loss = 0.007315\n",
            "Epoch = 52000, Loss = 0.026662\n",
            "Epoch = 54000, Loss = 0.030002\n",
            "Epoch = 56000, Loss = 0.011724\n",
            "Epoch = 58000, Loss = 0.005563\n",
            "Epoch = 60000, Loss = 0.006567\n",
            "Epoch = 62000, Loss = 0.103720\n",
            "Epoch = 64000, Loss = 0.201537\n",
            "Epoch = 66000, Loss = 0.004880\n",
            "Epoch = 68000, Loss = 0.001247\n",
            "Epoch = 70000, Loss = 0.046969\n",
            "Epoch = 72000, Loss = 0.019168\n",
            "Epoch = 74000, Loss = 0.011482\n"
          ],
          "name": "stdout"
        }
      ]
    },
    {
      "cell_type": "code",
      "metadata": {
        "id": "4cRIVK0uhVzh",
        "colab_type": "code",
        "colab": {
          "base_uri": "https://localhost:8080/",
          "height": 151
        },
        "outputId": "58efab18-fe72-45f0-fa02-73812e8a41ab"
      },
      "source": [
        "\n",
        "Y_data  = test.reshape(test.shape[0], 1, 28, 28)\n",
        "Y_data  = Y_data.astype(float)\n",
        "Y_data /= 255.0\n",
        "Y_data  = torch.from_numpy(Y_data);\n",
        "print (Y_data.size())\n",
        "nb_test = test.shape[0]\n",
        "\n",
        "net.eval()"
      ],
      "execution_count": 20,
      "outputs": [
        {
          "output_type": "stream",
          "text": [
            "torch.Size([28000, 1, 28, 28])\n"
          ],
          "name": "stdout"
        },
        {
          "output_type": "execute_result",
          "data": {
            "text/plain": [
              "LeNet(\n",
              "  (conv1): Conv2d(1, 6, kernel_size=(5, 5), stride=(1, 1), padding=(2, 2))\n",
              "  (conv2): Conv2d(6, 16, kernel_size=(5, 5), stride=(1, 1))\n",
              "  (fc1): Linear(in_features=400, out_features=120, bias=True)\n",
              "  (fc2): Linear(in_features=120, out_features=84, bias=True)\n",
              "  (fc3): Linear(in_features=84, out_features=10, bias=True)\n",
              ")"
            ]
          },
          "metadata": {
            "tags": []
          },
          "execution_count": 20
        }
      ]
    },
    {
      "cell_type": "code",
      "metadata": {
        "id": "hwbyQDlnha88",
        "colab_type": "code",
        "colab": {
          "base_uri": "https://localhost:8080/",
          "height": 252
        },
        "outputId": "96559e9b-60a5-4711-f7e5-d32dbc8591f2"
      },
      "source": [
        "final_prediction = np.ndarray(shape = (nb_test, 2), dtype=int)\n",
        "for each_sample in range(nb_test):\n",
        "\tsample_data = Variable(Y_data[each_sample:each_sample+1].clone())\n",
        "\tsample_data = sample_data.type(torch.FloatTensor)\n",
        "\tif use_gpu:\n",
        "\t\tsample_data = sample_data.cuda()\n",
        "\tsample_out = net(sample_data)\n",
        "\t_, pred = torch.max(sample_out, 1)\n",
        "\tfinal_prediction[each_sample][0] = 1 + each_sample\n",
        "\tfinal_prediction[each_sample][1] = pred.data\n",
        "\tif (each_sample + 1) % 2000 == 0:\n",
        "\t\tprint(\"Total tested = %d\" %(each_sample + 1))"
      ],
      "execution_count": 22,
      "outputs": [
        {
          "output_type": "stream",
          "text": [
            "Total tested = 2000\n",
            "Total tested = 4000\n",
            "Total tested = 6000\n",
            "Total tested = 8000\n",
            "Total tested = 10000\n",
            "Total tested = 12000\n",
            "Total tested = 14000\n",
            "Total tested = 16000\n",
            "Total tested = 18000\n",
            "Total tested = 20000\n",
            "Total tested = 22000\n",
            "Total tested = 24000\n",
            "Total tested = 26000\n",
            "Total tested = 28000\n"
          ],
          "name": "stdout"
        }
      ]
    },
    {
      "cell_type": "code",
      "metadata": {
        "id": "k7nYIDrFhfjN",
        "colab_type": "code",
        "colab": {}
      },
      "source": [
        ""
      ],
      "execution_count": 0,
      "outputs": []
    }
  ]
}